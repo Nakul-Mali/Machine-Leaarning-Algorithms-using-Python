{
 "cells": [
  {
   "cell_type": "markdown",
   "metadata": {},
   "source": [
    "### Predict Price of the computer Using Statsmodels "
   ]
  },
  {
   "cell_type": "markdown",
   "metadata": {},
   "source": [
    "#### importing Libearies "
   ]
  },
  {
   "cell_type": "code",
   "execution_count": 22,
   "metadata": {},
   "outputs": [],
   "source": [
    "import pandas as pd \n",
    "import numpy as np \n",
    "import seaborn as sns \n",
    "import statsmodels.formula.api as smf \n",
    "import matplotlib.pyplot as plt \n",
    "import statsmodels.api as sm "
   ]
  },
  {
   "cell_type": "markdown",
   "metadata": {},
   "source": [
    "#### importing Dataset "
   ]
  },
  {
   "cell_type": "code",
   "execution_count": 24,
   "metadata": {},
   "outputs": [],
   "source": [
    "data = pd.read_csv('F://Data_Set/Computer_Data.csv') "
   ]
  },
  {
   "cell_type": "code",
   "execution_count": 25,
   "metadata": {},
   "outputs": [
    {
     "data": {
      "text/html": [
       "<div>\n",
       "<style scoped>\n",
       "    .dataframe tbody tr th:only-of-type {\n",
       "        vertical-align: middle;\n",
       "    }\n",
       "\n",
       "    .dataframe tbody tr th {\n",
       "        vertical-align: top;\n",
       "    }\n",
       "\n",
       "    .dataframe thead th {\n",
       "        text-align: right;\n",
       "    }\n",
       "</style>\n",
       "<table border=\"1\" class=\"dataframe\">\n",
       "  <thead>\n",
       "    <tr style=\"text-align: right;\">\n",
       "      <th></th>\n",
       "      <th>Unnamed: 0</th>\n",
       "      <th>price</th>\n",
       "      <th>speed</th>\n",
       "      <th>hd</th>\n",
       "      <th>ram</th>\n",
       "      <th>screen</th>\n",
       "      <th>cd</th>\n",
       "      <th>multi</th>\n",
       "      <th>premium</th>\n",
       "      <th>ads</th>\n",
       "      <th>trend</th>\n",
       "    </tr>\n",
       "  </thead>\n",
       "  <tbody>\n",
       "    <tr>\n",
       "      <th>0</th>\n",
       "      <td>1</td>\n",
       "      <td>1499</td>\n",
       "      <td>25</td>\n",
       "      <td>80</td>\n",
       "      <td>4</td>\n",
       "      <td>14</td>\n",
       "      <td>no</td>\n",
       "      <td>no</td>\n",
       "      <td>yes</td>\n",
       "      <td>94</td>\n",
       "      <td>1</td>\n",
       "    </tr>\n",
       "    <tr>\n",
       "      <th>1</th>\n",
       "      <td>2</td>\n",
       "      <td>1795</td>\n",
       "      <td>33</td>\n",
       "      <td>85</td>\n",
       "      <td>2</td>\n",
       "      <td>14</td>\n",
       "      <td>no</td>\n",
       "      <td>no</td>\n",
       "      <td>yes</td>\n",
       "      <td>94</td>\n",
       "      <td>1</td>\n",
       "    </tr>\n",
       "    <tr>\n",
       "      <th>2</th>\n",
       "      <td>3</td>\n",
       "      <td>1595</td>\n",
       "      <td>25</td>\n",
       "      <td>170</td>\n",
       "      <td>4</td>\n",
       "      <td>15</td>\n",
       "      <td>no</td>\n",
       "      <td>no</td>\n",
       "      <td>yes</td>\n",
       "      <td>94</td>\n",
       "      <td>1</td>\n",
       "    </tr>\n",
       "    <tr>\n",
       "      <th>3</th>\n",
       "      <td>4</td>\n",
       "      <td>1849</td>\n",
       "      <td>25</td>\n",
       "      <td>170</td>\n",
       "      <td>8</td>\n",
       "      <td>14</td>\n",
       "      <td>no</td>\n",
       "      <td>no</td>\n",
       "      <td>no</td>\n",
       "      <td>94</td>\n",
       "      <td>1</td>\n",
       "    </tr>\n",
       "    <tr>\n",
       "      <th>4</th>\n",
       "      <td>5</td>\n",
       "      <td>3295</td>\n",
       "      <td>33</td>\n",
       "      <td>340</td>\n",
       "      <td>16</td>\n",
       "      <td>14</td>\n",
       "      <td>no</td>\n",
       "      <td>no</td>\n",
       "      <td>yes</td>\n",
       "      <td>94</td>\n",
       "      <td>1</td>\n",
       "    </tr>\n",
       "  </tbody>\n",
       "</table>\n",
       "</div>"
      ],
      "text/plain": [
       "   Unnamed: 0  price  speed   hd  ram  screen  cd multi premium  ads  trend\n",
       "0           1   1499     25   80    4      14  no    no     yes   94      1\n",
       "1           2   1795     33   85    2      14  no    no     yes   94      1\n",
       "2           3   1595     25  170    4      15  no    no     yes   94      1\n",
       "3           4   1849     25  170    8      14  no    no      no   94      1\n",
       "4           5   3295     33  340   16      14  no    no     yes   94      1"
      ]
     },
     "execution_count": 25,
     "metadata": {},
     "output_type": "execute_result"
    }
   ],
   "source": [
    "data.head() "
   ]
  },
  {
   "cell_type": "markdown",
   "metadata": {},
   "source": [
    "Check Dataset Information "
   ]
  },
  {
   "cell_type": "code",
   "execution_count": 4,
   "metadata": {},
   "outputs": [
    {
     "name": "stdout",
     "output_type": "stream",
     "text": [
      "<class 'pandas.core.frame.DataFrame'>\n",
      "RangeIndex: 6259 entries, 0 to 6258\n",
      "Data columns (total 11 columns):\n",
      " #   Column      Non-Null Count  Dtype \n",
      "---  ------      --------------  ----- \n",
      " 0   Unnamed: 0  6259 non-null   int64 \n",
      " 1   price       6259 non-null   int64 \n",
      " 2   speed       6259 non-null   int64 \n",
      " 3   hd          6259 non-null   int64 \n",
      " 4   ram         6259 non-null   int64 \n",
      " 5   screen      6259 non-null   int64 \n",
      " 6   cd          6259 non-null   object\n",
      " 7   multi       6259 non-null   object\n",
      " 8   premium     6259 non-null   object\n",
      " 9   ads         6259 non-null   int64 \n",
      " 10  trend       6259 non-null   int64 \n",
      "dtypes: int64(8), object(3)\n",
      "memory usage: 538.0+ KB\n"
     ]
    }
   ],
   "source": [
    "data.info() "
   ]
  },
  {
   "cell_type": "markdown",
   "metadata": {},
   "source": [
    "Check any Null Value is Present in the dataset or Not "
   ]
  },
  {
   "cell_type": "code",
   "execution_count": 5,
   "metadata": {},
   "outputs": [
    {
     "data": {
      "text/plain": [
       "Unnamed: 0    0\n",
       "price         0\n",
       "speed         0\n",
       "hd            0\n",
       "ram           0\n",
       "screen        0\n",
       "cd            0\n",
       "multi         0\n",
       "premium       0\n",
       "ads           0\n",
       "trend         0\n",
       "dtype: int64"
      ]
     },
     "execution_count": 5,
     "metadata": {},
     "output_type": "execute_result"
    }
   ],
   "source": [
    "data.isnull().sum() "
   ]
  },
  {
   "cell_type": "markdown",
   "metadata": {},
   "source": [
    "checking the Correlation of data "
   ]
  },
  {
   "cell_type": "code",
   "execution_count": 6,
   "metadata": {},
   "outputs": [
    {
     "data": {
      "text/html": [
       "<div>\n",
       "<style scoped>\n",
       "    .dataframe tbody tr th:only-of-type {\n",
       "        vertical-align: middle;\n",
       "    }\n",
       "\n",
       "    .dataframe tbody tr th {\n",
       "        vertical-align: top;\n",
       "    }\n",
       "\n",
       "    .dataframe thead th {\n",
       "        text-align: right;\n",
       "    }\n",
       "</style>\n",
       "<table border=\"1\" class=\"dataframe\">\n",
       "  <thead>\n",
       "    <tr style=\"text-align: right;\">\n",
       "      <th></th>\n",
       "      <th>Unnamed: 0</th>\n",
       "      <th>price</th>\n",
       "      <th>speed</th>\n",
       "      <th>hd</th>\n",
       "      <th>ram</th>\n",
       "      <th>screen</th>\n",
       "      <th>ads</th>\n",
       "      <th>trend</th>\n",
       "    </tr>\n",
       "  </thead>\n",
       "  <tbody>\n",
       "    <tr>\n",
       "      <th>Unnamed: 0</th>\n",
       "      <td>1.000000</td>\n",
       "      <td>-0.199924</td>\n",
       "      <td>0.388566</td>\n",
       "      <td>0.555492</td>\n",
       "      <td>0.265376</td>\n",
       "      <td>0.184699</td>\n",
       "      <td>-0.272714</td>\n",
       "      <td>0.989818</td>\n",
       "    </tr>\n",
       "    <tr>\n",
       "      <th>price</th>\n",
       "      <td>-0.199924</td>\n",
       "      <td>1.000000</td>\n",
       "      <td>0.300976</td>\n",
       "      <td>0.430258</td>\n",
       "      <td>0.622748</td>\n",
       "      <td>0.296041</td>\n",
       "      <td>0.054540</td>\n",
       "      <td>-0.199987</td>\n",
       "    </tr>\n",
       "    <tr>\n",
       "      <th>speed</th>\n",
       "      <td>0.388566</td>\n",
       "      <td>0.300976</td>\n",
       "      <td>1.000000</td>\n",
       "      <td>0.372304</td>\n",
       "      <td>0.234760</td>\n",
       "      <td>0.189074</td>\n",
       "      <td>-0.215232</td>\n",
       "      <td>0.405438</td>\n",
       "    </tr>\n",
       "    <tr>\n",
       "      <th>hd</th>\n",
       "      <td>0.555492</td>\n",
       "      <td>0.430258</td>\n",
       "      <td>0.372304</td>\n",
       "      <td>1.000000</td>\n",
       "      <td>0.777726</td>\n",
       "      <td>0.232802</td>\n",
       "      <td>-0.323222</td>\n",
       "      <td>0.577790</td>\n",
       "    </tr>\n",
       "    <tr>\n",
       "      <th>ram</th>\n",
       "      <td>0.265376</td>\n",
       "      <td>0.622748</td>\n",
       "      <td>0.234760</td>\n",
       "      <td>0.777726</td>\n",
       "      <td>1.000000</td>\n",
       "      <td>0.208954</td>\n",
       "      <td>-0.181670</td>\n",
       "      <td>0.276844</td>\n",
       "    </tr>\n",
       "    <tr>\n",
       "      <th>screen</th>\n",
       "      <td>0.184699</td>\n",
       "      <td>0.296041</td>\n",
       "      <td>0.189074</td>\n",
       "      <td>0.232802</td>\n",
       "      <td>0.208954</td>\n",
       "      <td>1.000000</td>\n",
       "      <td>-0.093919</td>\n",
       "      <td>0.188614</td>\n",
       "    </tr>\n",
       "    <tr>\n",
       "      <th>ads</th>\n",
       "      <td>-0.272714</td>\n",
       "      <td>0.054540</td>\n",
       "      <td>-0.215232</td>\n",
       "      <td>-0.323222</td>\n",
       "      <td>-0.181670</td>\n",
       "      <td>-0.093919</td>\n",
       "      <td>1.000000</td>\n",
       "      <td>-0.318553</td>\n",
       "    </tr>\n",
       "    <tr>\n",
       "      <th>trend</th>\n",
       "      <td>0.989818</td>\n",
       "      <td>-0.199987</td>\n",
       "      <td>0.405438</td>\n",
       "      <td>0.577790</td>\n",
       "      <td>0.276844</td>\n",
       "      <td>0.188614</td>\n",
       "      <td>-0.318553</td>\n",
       "      <td>1.000000</td>\n",
       "    </tr>\n",
       "  </tbody>\n",
       "</table>\n",
       "</div>"
      ],
      "text/plain": [
       "            Unnamed: 0     price     speed        hd       ram    screen  \\\n",
       "Unnamed: 0    1.000000 -0.199924  0.388566  0.555492  0.265376  0.184699   \n",
       "price        -0.199924  1.000000  0.300976  0.430258  0.622748  0.296041   \n",
       "speed         0.388566  0.300976  1.000000  0.372304  0.234760  0.189074   \n",
       "hd            0.555492  0.430258  0.372304  1.000000  0.777726  0.232802   \n",
       "ram           0.265376  0.622748  0.234760  0.777726  1.000000  0.208954   \n",
       "screen        0.184699  0.296041  0.189074  0.232802  0.208954  1.000000   \n",
       "ads          -0.272714  0.054540 -0.215232 -0.323222 -0.181670 -0.093919   \n",
       "trend         0.989818 -0.199987  0.405438  0.577790  0.276844  0.188614   \n",
       "\n",
       "                 ads     trend  \n",
       "Unnamed: 0 -0.272714  0.989818  \n",
       "price       0.054540 -0.199987  \n",
       "speed      -0.215232  0.405438  \n",
       "hd         -0.323222  0.577790  \n",
       "ram        -0.181670  0.276844  \n",
       "screen     -0.093919  0.188614  \n",
       "ads         1.000000 -0.318553  \n",
       "trend      -0.318553  1.000000  "
      ]
     },
     "execution_count": 6,
     "metadata": {},
     "output_type": "execute_result"
    }
   ],
   "source": [
    "data.corr() "
   ]
  },
  {
   "cell_type": "markdown",
   "metadata": {},
   "source": [
    "### 1st Model Genration "
   ]
  },
  {
   "cell_type": "code",
   "execution_count": 26,
   "metadata": {},
   "outputs": [],
   "source": [
    "dataset_1 = data "
   ]
  },
  {
   "cell_type": "code",
   "execution_count": 27,
   "metadata": {},
   "outputs": [],
   "source": [
    "dataset_1.drop(['cd','multi','premium'],axis=1,inplace=True)  "
   ]
  },
  {
   "cell_type": "markdown",
   "metadata": {},
   "source": [
    "#### Fitting 1st Multiple Linear Regression Model On the Dataset "
   ]
  },
  {
   "cell_type": "code",
   "execution_count": 28,
   "metadata": {},
   "outputs": [],
   "source": [
    "model_1 = smf.ols('price~speed+hd+ram+screen+ads+trend',data=dataset_1).fit() "
   ]
  },
  {
   "cell_type": "markdown",
   "metadata": {},
   "source": [
    "Test for Normality of Residuals (Q-Q Plot) of 1st Model"
   ]
  },
  {
   "cell_type": "code",
   "execution_count": 29,
   "metadata": {},
   "outputs": [
    {
     "data": {
      "image/png": "[encoded data removed]",
      "text/plain": [
       "<Figure size 432x288 with 1 Axes>"
      ]
     },
     "metadata": {
      "needs_background": "light"
     },
     "output_type": "display_data"
    }
   ],
   "source": [
    "qqplot = sm.qqplot(model_1.resid,line='q') \n",
    "plt.title('Normal Q-Q Plot of Residuals')\n",
    "plt.show() "
   ]
  },
  {
   "cell_type": "markdown",
   "metadata": {},
   "source": [
    "#### Prediction of 1st Model "
   ]
  },
  {
   "cell_type": "code",
   "execution_count": 33,
   "metadata": {},
   "outputs": [],
   "source": [
    "New_Data = pd.DataFrame({'speed':30,'hd':340,'ram':4,'screen':15,'ads':94,'trend':1},index=[1]) "
   ]
  },
  {
   "cell_type": "code",
   "execution_count": 34,
   "metadata": {},
   "outputs": [
    {
     "data": {
      "text/html": [
       "<div>\n",
       "<style scoped>\n",
       "    .dataframe tbody tr th:only-of-type {\n",
       "        vertical-align: middle;\n",
       "    }\n",
       "\n",
       "    .dataframe tbody tr th {\n",
       "        vertical-align: top;\n",
       "    }\n",
       "\n",
       "    .dataframe thead th {\n",
       "        text-align: right;\n",
       "    }\n",
       "</style>\n",
       "<table border=\"1\" class=\"dataframe\">\n",
       "  <thead>\n",
       "    <tr style=\"text-align: right;\">\n",
       "      <th></th>\n",
       "      <th>speed</th>\n",
       "      <th>hd</th>\n",
       "      <th>ram</th>\n",
       "      <th>screen</th>\n",
       "      <th>ads</th>\n",
       "      <th>trend</th>\n",
       "    </tr>\n",
       "  </thead>\n",
       "  <tbody>\n",
       "    <tr>\n",
       "      <th>1</th>\n",
       "      <td>30</td>\n",
       "      <td>340</td>\n",
       "      <td>4</td>\n",
       "      <td>15</td>\n",
       "      <td>94</td>\n",
       "      <td>1</td>\n",
       "    </tr>\n",
       "  </tbody>\n",
       "</table>\n",
       "</div>"
      ],
      "text/plain": [
       "   speed   hd  ram  screen  ads  trend\n",
       "1     30  340    4      15   94      1"
      ]
     },
     "execution_count": 34,
     "metadata": {},
     "output_type": "execute_result"
    }
   ],
   "source": [
    "New_Data"
   ]
  },
  {
   "cell_type": "code",
   "execution_count": 35,
   "metadata": {},
   "outputs": [],
   "source": [
    "y1_pred = model_1.predict(New_Data) "
   ]
  },
  {
   "cell_type": "code",
   "execution_count": 36,
   "metadata": {},
   "outputs": [
    {
     "data": {
      "text/plain": [
       "1    2395.294802\n",
       "dtype: float64"
      ]
     },
     "execution_count": 36,
     "metadata": {},
     "output_type": "execute_result"
    }
   ],
   "source": [
    "y1_pred "
   ]
  },
  {
   "cell_type": "markdown",
   "metadata": {},
   "source": [
    "Summary of the 1st Model "
   ]
  },
  {
   "cell_type": "code",
   "execution_count": 10,
   "metadata": {},
   "outputs": [
    {
     "data": {
      "text/html": [
       "<table class=\"simpletable\">\n",
       "<caption>OLS Regression Results</caption>\n",
       "<tr>\n",
       "  <th>Dep. Variable:</th>          <td>price</td>      <th>  R-squared:         </th> <td>   0.712</td> \n",
       "</tr>\n",
       "<tr>\n",
       "  <th>Model:</th>                   <td>OLS</td>       <th>  Adj. R-squared:    </th> <td>   0.712</td> \n",
       "</tr>\n",
       "<tr>\n",
       "  <th>Method:</th>             <td>Least Squares</td>  <th>  F-statistic:       </th> <td>   2580.</td> \n",
       "</tr>\n",
       "<tr>\n",
       "  <th>Date:</th>             <td>Sat, 26 Dec 2020</td> <th>  Prob (F-statistic):</th>  <td>  0.00</td>  \n",
       "</tr>\n",
       "<tr>\n",
       "  <th>Time:</th>                 <td>22:31:29</td>     <th>  Log-Likelihood:    </th> <td> -44817.</td> \n",
       "</tr>\n",
       "<tr>\n",
       "  <th>No. Observations:</th>      <td>  6259</td>      <th>  AIC:               </th> <td>8.965e+04</td>\n",
       "</tr>\n",
       "<tr>\n",
       "  <th>Df Residuals:</th>          <td>  6252</td>      <th>  BIC:               </th> <td>8.969e+04</td>\n",
       "</tr>\n",
       "<tr>\n",
       "  <th>Df Model:</th>              <td>     6</td>      <th>                     </th>     <td> </td>    \n",
       "</tr>\n",
       "<tr>\n",
       "  <th>Covariance Type:</th>      <td>nonrobust</td>    <th>                     </th>     <td> </td>    \n",
       "</tr>\n",
       "</table>\n",
       "<table class=\"simpletable\">\n",
       "<tr>\n",
       "      <td></td>         <th>coef</th>     <th>std err</th>      <th>t</th>      <th>P>|t|</th>  <th>[0.025</th>    <th>0.975]</th>  \n",
       "</tr>\n",
       "<tr>\n",
       "  <th>Intercept</th> <td> -246.6755</td> <td>   66.371</td> <td>   -3.717</td> <td> 0.000</td> <td> -376.785</td> <td> -116.566</td>\n",
       "</tr>\n",
       "<tr>\n",
       "  <th>speed</th>     <td>    8.8939</td> <td>    0.209</td> <td>   42.590</td> <td> 0.000</td> <td>    8.485</td> <td>    9.303</td>\n",
       "</tr>\n",
       "<tr>\n",
       "  <th>hd</th>        <td>    0.7088</td> <td>    0.031</td> <td>   22.932</td> <td> 0.000</td> <td>    0.648</td> <td>    0.769</td>\n",
       "</tr>\n",
       "<tr>\n",
       "  <th>ram</th>       <td>   47.3870</td> <td>    1.188</td> <td>   39.899</td> <td> 0.000</td> <td>   45.059</td> <td>   49.715</td>\n",
       "</tr>\n",
       "<tr>\n",
       "  <th>screen</th>    <td>  126.7024</td> <td>    4.521</td> <td>   28.022</td> <td> 0.000</td> <td>  117.839</td> <td>  135.566</td>\n",
       "</tr>\n",
       "<tr>\n",
       "  <th>ads</th>       <td>    0.9697</td> <td>    0.057</td> <td>   17.099</td> <td> 0.000</td> <td>    0.859</td> <td>    1.081</td>\n",
       "</tr>\n",
       "<tr>\n",
       "  <th>trend</th>     <td>  -47.0820</td> <td>    0.676</td> <td>  -69.660</td> <td> 0.000</td> <td>  -48.407</td> <td>  -45.757</td>\n",
       "</tr>\n",
       "</table>\n",
       "<table class=\"simpletable\">\n",
       "<tr>\n",
       "  <th>Omnibus:</th>       <td>1407.073</td> <th>  Durbin-Watson:     </th> <td>   1.948</td>\n",
       "</tr>\n",
       "<tr>\n",
       "  <th>Prob(Omnibus):</th>  <td> 0.000</td>  <th>  Jarque-Bera (JB):  </th> <td>3902.981</td>\n",
       "</tr>\n",
       "<tr>\n",
       "  <th>Skew:</th>           <td> 1.187</td>  <th>  Prob(JB):          </th> <td>    0.00</td>\n",
       "</tr>\n",
       "<tr>\n",
       "  <th>Kurtosis:</th>       <td> 6.054</td>  <th>  Cond. No.          </th> <td>8.89e+03</td>\n",
       "</tr>\n",
       "</table><br/><br/>Warnings:<br/>[1] Standard Errors assume that the covariance matrix of the errors is correctly specified.<br/>[2] The condition number is large, 8.89e+03. This might indicate that there are<br/>strong multicollinearity or other numerical problems."
      ],
      "text/plain": [
       "<class 'statsmodels.iolib.summary.Summary'>\n",
       "\"\"\"\n",
       "                            OLS Regression Results                            \n",
       "==============================================================================\n",
       "Dep. Variable:                  price   R-squared:                       0.712\n",
       "Model:                            OLS   Adj. R-squared:                  0.712\n",
       "Method:                 Least Squares   F-statistic:                     2580.\n",
       "Date:                Sat, 26 Dec 2020   Prob (F-statistic):               0.00\n",
       "Time:                        22:31:29   Log-Likelihood:                -44817.\n",
       "No. Observations:                6259   AIC:                         8.965e+04\n",
       "Df Residuals:                    6252   BIC:                         8.969e+04\n",
       "Df Model:                           6                                         \n",
       "Covariance Type:            nonrobust                                         \n",
       "==============================================================================\n",
       "                 coef    std err          t      P>|t|      [0.025      0.975]\n",
       "------------------------------------------------------------------------------\n",
       "Intercept   -246.6755     66.371     -3.717      0.000    -376.785    -116.566\n",
       "speed          8.8939      0.209     42.590      0.000       8.485       9.303\n",
       "hd             0.7088      0.031     22.932      0.000       0.648       0.769\n",
       "ram           47.3870      1.188     39.899      0.000      45.059      49.715\n",
       "screen       126.7024      4.521     28.022      0.000     117.839     135.566\n",
       "ads            0.9697      0.057     17.099      0.000       0.859       1.081\n",
       "trend        -47.0820      0.676    -69.660      0.000     -48.407     -45.757\n",
       "==============================================================================\n",
       "Omnibus:                     1407.073   Durbin-Watson:                   1.948\n",
       "Prob(Omnibus):                  0.000   Jarque-Bera (JB):             3902.981\n",
       "Skew:                           1.187   Prob(JB):                         0.00\n",
       "Kurtosis:                       6.054   Cond. No.                     8.89e+03\n",
       "==============================================================================\n",
       "\n",
       "Warnings:\n",
       "[1] Standard Errors assume that the covariance matrix of the errors is correctly specified.\n",
       "[2] The condition number is large, 8.89e+03. This might indicate that there are\n",
       "strong multicollinearity or other numerical problems.\n",
       "\"\"\""
      ]
     },
     "execution_count": 10,
     "metadata": {},
     "output_type": "execute_result"
    }
   ],
   "source": [
    "model_1.summary() "
   ]
  },
  {
   "cell_type": "code",
   "execution_count": null,
   "metadata": {},
   "outputs": [],
   "source": []
  },
  {
   "cell_type": "markdown",
   "metadata": {},
   "source": [
    "### 2nd Model Genration by Using Log Transformation on the Dataset "
   ]
  },
  {
   "cell_type": "code",
   "execution_count": 14,
   "metadata": {},
   "outputs": [],
   "source": [
    "dataset_2 = data "
   ]
  },
  {
   "cell_type": "markdown",
   "metadata": {},
   "source": [
    " Log Transformation on the Dataset "
   ]
  },
  {
   "cell_type": "code",
   "execution_count": 15,
   "metadata": {},
   "outputs": [],
   "source": [
    "dataset_2['price'] = np.log(dataset_2['price']+1) \n",
    "dataset_2['speed'] = np.log(dataset_2['speed']+1) \n",
    "dataset_2['hd'] = np.log(dataset_2['hd']+1) \n",
    "dataset_2['ram'] = np.log(dataset_2['ram']+1) \n",
    "dataset_2['screen'] = np.log(dataset_2['screen']+1) \n",
    "dataset_2['ads'] = np.log(dataset_2['ads']+1) \n",
    "dataset_2['trend'] = np.log(dataset_1['trend']+1) "
   ]
  },
  {
   "cell_type": "markdown",
   "metadata": {},
   "source": [
    "#### Fitting 2nd Multiple Linear Regression Model on Log Transformed Data "
   ]
  },
  {
   "cell_type": "code",
   "execution_count": 16,
   "metadata": {},
   "outputs": [],
   "source": [
    "model_2 = smf.ols('price~speed+hd+ram+screen+ads+trend',data=dataset_2).fit()  "
   ]
  },
  {
   "cell_type": "markdown",
   "metadata": {},
   "source": [
    "Test for Normality of Residuals (Q-Q Plot) of 2nd Model "
   ]
  },
  {
   "cell_type": "code",
   "execution_count": 17,
   "metadata": {},
   "outputs": [
    {
     "data": {
      "image/png": "[encoded data removed]",
      "text/plain": [
       "<Figure size 432x288 with 1 Axes>"
      ]
     },
     "metadata": {
      "needs_background": "light"
     },
     "output_type": "display_data"
    }
   ],
   "source": [
    "qqplot = sm.qqplot(model_2.resid,line='q') \n",
    "plt.title('Normal Q-Q Plot of Residuals')\n",
    "plt.show() "
   ]
  },
  {
   "cell_type": "markdown",
   "metadata": {},
   "source": [
    "Sumary of 2nd Model "
   ]
  },
  {
   "cell_type": "code",
   "execution_count": 16,
   "metadata": {},
   "outputs": [
    {
     "data": {
      "text/html": [
       "<table class=\"simpletable\">\n",
       "<caption>OLS Regression Results</caption>\n",
       "<tr>\n",
       "  <th>Dep. Variable:</th>          <td>price</td>      <th>  R-squared:         </th> <td>   0.712</td>\n",
       "</tr>\n",
       "<tr>\n",
       "  <th>Model:</th>                   <td>OLS</td>       <th>  Adj. R-squared:    </th> <td>   0.712</td>\n",
       "</tr>\n",
       "<tr>\n",
       "  <th>Method:</th>             <td>Least Squares</td>  <th>  F-statistic:       </th> <td>   2579.</td>\n",
       "</tr>\n",
       "<tr>\n",
       "  <th>Date:</th>             <td>Sat, 26 Dec 2020</td> <th>  Prob (F-statistic):</th>  <td>  0.00</td> \n",
       "</tr>\n",
       "<tr>\n",
       "  <th>Time:</th>                 <td>22:32:28</td>     <th>  Log-Likelihood:    </th> <td>  3500.2</td>\n",
       "</tr>\n",
       "<tr>\n",
       "  <th>No. Observations:</th>      <td>  6259</td>      <th>  AIC:               </th> <td>  -6986.</td>\n",
       "</tr>\n",
       "<tr>\n",
       "  <th>Df Residuals:</th>          <td>  6252</td>      <th>  BIC:               </th> <td>  -6939.</td>\n",
       "</tr>\n",
       "<tr>\n",
       "  <th>Df Model:</th>              <td>     6</td>      <th>                     </th>     <td> </td>   \n",
       "</tr>\n",
       "<tr>\n",
       "  <th>Covariance Type:</th>      <td>nonrobust</td>    <th>                     </th>     <td> </td>   \n",
       "</tr>\n",
       "</table>\n",
       "<table class=\"simpletable\">\n",
       "<tr>\n",
       "      <td></td>         <th>coef</th>     <th>std err</th>      <th>t</th>      <th>P>|t|</th>  <th>[0.025</th>    <th>0.975]</th>  \n",
       "</tr>\n",
       "<tr>\n",
       "  <th>Intercept</th> <td>    3.4759</td> <td>    0.094</td> <td>   37.000</td> <td> 0.000</td> <td>    3.292</td> <td>    3.660</td>\n",
       "</tr>\n",
       "<tr>\n",
       "  <th>speed</th>     <td>    0.1961</td> <td>    0.005</td> <td>   39.572</td> <td> 0.000</td> <td>    0.186</td> <td>    0.206</td>\n",
       "</tr>\n",
       "<tr>\n",
       "  <th>hd</th>        <td>    0.1026</td> <td>    0.006</td> <td>   16.978</td> <td> 0.000</td> <td>    0.091</td> <td>    0.114</td>\n",
       "</tr>\n",
       "<tr>\n",
       "  <th>ram</th>       <td>    0.2384</td> <td>    0.006</td> <td>   41.353</td> <td> 0.000</td> <td>    0.227</td> <td>    0.250</td>\n",
       "</tr>\n",
       "<tr>\n",
       "  <th>screen</th>    <td>    0.7769</td> <td>    0.033</td> <td>   23.583</td> <td> 0.000</td> <td>    0.712</td> <td>    0.841</td>\n",
       "</tr>\n",
       "<tr>\n",
       "  <th>ads</th>       <td>    0.1600</td> <td>    0.004</td> <td>   38.355</td> <td> 0.000</td> <td>    0.152</td> <td>    0.168</td>\n",
       "</tr>\n",
       "<tr>\n",
       "  <th>trend</th>     <td>   -0.2402</td> <td>    0.004</td> <td>  -62.645</td> <td> 0.000</td> <td>   -0.248</td> <td>   -0.233</td>\n",
       "</tr>\n",
       "</table>\n",
       "<table class=\"simpletable\">\n",
       "<tr>\n",
       "  <th>Omnibus:</th>       <td>214.938</td> <th>  Durbin-Watson:     </th> <td>   1.839</td>\n",
       "</tr>\n",
       "<tr>\n",
       "  <th>Prob(Omnibus):</th> <td> 0.000</td>  <th>  Jarque-Bera (JB):  </th> <td> 291.181</td>\n",
       "</tr>\n",
       "<tr>\n",
       "  <th>Skew:</th>          <td> 0.367</td>  <th>  Prob(JB):          </th> <td>5.90e-64</td>\n",
       "</tr>\n",
       "<tr>\n",
       "  <th>Kurtosis:</th>      <td> 3.760</td>  <th>  Cond. No.          </th> <td>    559.</td>\n",
       "</tr>\n",
       "</table><br/><br/>Warnings:<br/>[1] Standard Errors assume that the covariance matrix of the errors is correctly specified."
      ],
      "text/plain": [
       "<class 'statsmodels.iolib.summary.Summary'>\n",
       "\"\"\"\n",
       "                            OLS Regression Results                            \n",
       "==============================================================================\n",
       "Dep. Variable:                  price   R-squared:                       0.712\n",
       "Model:                            OLS   Adj. R-squared:                  0.712\n",
       "Method:                 Least Squares   F-statistic:                     2579.\n",
       "Date:                Sat, 26 Dec 2020   Prob (F-statistic):               0.00\n",
       "Time:                        22:32:28   Log-Likelihood:                 3500.2\n",
       "No. Observations:                6259   AIC:                            -6986.\n",
       "Df Residuals:                    6252   BIC:                            -6939.\n",
       "Df Model:                           6                                         \n",
       "Covariance Type:            nonrobust                                         \n",
       "==============================================================================\n",
       "                 coef    std err          t      P>|t|      [0.025      0.975]\n",
       "------------------------------------------------------------------------------\n",
       "Intercept      3.4759      0.094     37.000      0.000       3.292       3.660\n",
       "speed          0.1961      0.005     39.572      0.000       0.186       0.206\n",
       "hd             0.1026      0.006     16.978      0.000       0.091       0.114\n",
       "ram            0.2384      0.006     41.353      0.000       0.227       0.250\n",
       "screen         0.7769      0.033     23.583      0.000       0.712       0.841\n",
       "ads            0.1600      0.004     38.355      0.000       0.152       0.168\n",
       "trend         -0.2402      0.004    -62.645      0.000      -0.248      -0.233\n",
       "==============================================================================\n",
       "Omnibus:                      214.938   Durbin-Watson:                   1.839\n",
       "Prob(Omnibus):                  0.000   Jarque-Bera (JB):              291.181\n",
       "Skew:                           0.367   Prob(JB):                     5.90e-64\n",
       "Kurtosis:                       3.760   Cond. No.                         559.\n",
       "==============================================================================\n",
       "\n",
       "Warnings:\n",
       "[1] Standard Errors assume that the covariance matrix of the errors is correctly specified.\n",
       "\"\"\""
      ]
     },
     "execution_count": 16,
     "metadata": {},
     "output_type": "execute_result"
    }
   ],
   "source": [
    "model_2.summary() "
   ]
  },
  {
   "cell_type": "code",
   "execution_count": null,
   "metadata": {},
   "outputs": [],
   "source": []
  },
  {
   "cell_type": "markdown",
   "metadata": {},
   "source": [
    "### 3rd Model Genration by using Reciprocal Transformation on the Dataset"
   ]
  },
  {
   "cell_type": "code",
   "execution_count": 18,
   "metadata": {},
   "outputs": [],
   "source": [
    "dataset_3 = data "
   ]
  },
  {
   "cell_type": "markdown",
   "metadata": {},
   "source": [
    "Reciprocal Transformation of the Data Set "
   ]
  },
  {
   "cell_type": "code",
   "execution_count": 19,
   "metadata": {},
   "outputs": [],
   "source": [
    "dataset_3['price'] = 1/(dataset_3['price']+1) \n",
    "dataset_3['speed'] = 1/(dataset_3['speed']+1) \n",
    "dataset_3['hd'] = 1/(dataset_3['hd']+1) \n",
    "dataset_3['ram'] = 1/(dataset_3['ram']+1)  \n",
    "dataset_3['screen'] = 1/(dataset_3['screen']+1) \n",
    "dataset_3['ads'] = 1/(dataset_3['ads']+1)  \n",
    "dataset_3['trend'] = 1/(dataset_3['trend']+1)"
   ]
  },
  {
   "cell_type": "markdown",
   "metadata": {},
   "source": [
    "#### Fitting 3rd Multiple Linear Regression Model on Reciprocaly Transformed Data "
   ]
  },
  {
   "cell_type": "code",
   "execution_count": 20,
   "metadata": {},
   "outputs": [],
   "source": [
    "model_3 = smf.ols('price~speed+hd+ram+screen+ads+trend',data=dataset_3).fit()   "
   ]
  },
  {
   "cell_type": "markdown",
   "metadata": {},
   "source": [
    "Test for Normality of Residuals (Q-Q Plot) of 3rd Model "
   ]
  },
  {
   "cell_type": "code",
   "execution_count": 21,
   "metadata": {},
   "outputs": [
    {
     "data": {
      "image/png": "[encoded data removed]",
      "text/plain": [
       "<Figure size 432x288 with 1 Axes>"
      ]
     },
     "metadata": {
      "needs_background": "light"
     },
     "output_type": "display_data"
    }
   ],
   "source": [
    "qqplot = sm.qqplot(model_3.resid,line='q') \n",
    "plt.title('Normal Q-Q Plot of Residuals')\n",
    "plt.show() "
   ]
  },
  {
   "cell_type": "markdown",
   "metadata": {},
   "source": [
    "Summary of 3rd Model "
   ]
  },
  {
   "cell_type": "code",
   "execution_count": 28,
   "metadata": {},
   "outputs": [
    {
     "data": {
      "text/html": [
       "<table class=\"simpletable\">\n",
       "<caption>OLS Regression Results</caption>\n",
       "<tr>\n",
       "  <th>Dep. Variable:</th>          <td>price</td>      <th>  R-squared:         </th>  <td>   0.639</td> \n",
       "</tr>\n",
       "<tr>\n",
       "  <th>Model:</th>                   <td>OLS</td>       <th>  Adj. R-squared:    </th>  <td>   0.639</td> \n",
       "</tr>\n",
       "<tr>\n",
       "  <th>Method:</th>             <td>Least Squares</td>  <th>  F-statistic:       </th>  <td>   1847.</td> \n",
       "</tr>\n",
       "<tr>\n",
       "  <th>Date:</th>             <td>Sat, 26 Dec 2020</td> <th>  Prob (F-statistic):</th>   <td>  0.00</td>  \n",
       "</tr>\n",
       "<tr>\n",
       "  <th>Time:</th>                 <td>22:42:11</td>     <th>  Log-Likelihood:    </th>  <td>  68797.</td> \n",
       "</tr>\n",
       "<tr>\n",
       "  <th>No. Observations:</th>      <td>  6259</td>      <th>  AIC:               </th> <td>-1.376e+05</td>\n",
       "</tr>\n",
       "<tr>\n",
       "  <th>Df Residuals:</th>          <td>  6252</td>      <th>  BIC:               </th> <td>-1.375e+05</td>\n",
       "</tr>\n",
       "<tr>\n",
       "  <th>Df Model:</th>              <td>     6</td>      <th>                     </th>      <td> </td>    \n",
       "</tr>\n",
       "<tr>\n",
       "  <th>Covariance Type:</th>      <td>nonrobust</td>    <th>                     </th>      <td> </td>    \n",
       "</tr>\n",
       "</table>\n",
       "<table class=\"simpletable\">\n",
       "<tr>\n",
       "      <td></td>         <th>coef</th>     <th>std err</th>      <th>t</th>      <th>P>|t|</th>  <th>[0.025</th>    <th>0.975]</th>  \n",
       "</tr>\n",
       "<tr>\n",
       "  <th>Intercept</th> <td>    0.6327</td> <td>    0.001</td> <td>  949.292</td> <td> 0.000</td> <td>    0.631</td> <td>    0.634</td>\n",
       "</tr>\n",
       "<tr>\n",
       "  <th>speed</th>     <td>   -0.0248</td> <td>    0.001</td> <td>  -33.508</td> <td> 0.000</td> <td>   -0.026</td> <td>   -0.023</td>\n",
       "</tr>\n",
       "<tr>\n",
       "  <th>hd</th>        <td>    0.0040</td> <td>    0.001</td> <td>    6.553</td> <td> 0.000</td> <td>    0.003</td> <td>    0.005</td>\n",
       "</tr>\n",
       "<tr>\n",
       "  <th>ram</th>       <td>   -0.0023</td> <td> 5.81e-05</td> <td>  -39.808</td> <td> 0.000</td> <td>   -0.002</td> <td>   -0.002</td>\n",
       "</tr>\n",
       "<tr>\n",
       "  <th>screen</th>    <td>    0.0003</td> <td> 1.39e-05</td> <td>   20.315</td> <td> 0.000</td> <td>    0.000</td> <td>    0.000</td>\n",
       "</tr>\n",
       "<tr>\n",
       "  <th>ads</th>       <td>    0.0002</td> <td> 4.38e-06</td> <td>   37.867</td> <td> 0.000</td> <td>    0.000</td> <td>    0.000</td>\n",
       "</tr>\n",
       "<tr>\n",
       "  <th>trend</th>     <td> 4.805e-05</td> <td> 1.04e-06</td> <td>   46.370</td> <td> 0.000</td> <td>  4.6e-05</td> <td> 5.01e-05</td>\n",
       "</tr>\n",
       "</table>\n",
       "<table class=\"simpletable\">\n",
       "<tr>\n",
       "  <th>Omnibus:</th>       <td>22.863</td> <th>  Durbin-Watson:     </th> <td>   1.665</td>\n",
       "</tr>\n",
       "<tr>\n",
       "  <th>Prob(Omnibus):</th> <td> 0.000</td> <th>  Jarque-Bera (JB):  </th> <td>  27.604</td>\n",
       "</tr>\n",
       "<tr>\n",
       "  <th>Skew:</th>          <td> 0.072</td> <th>  Prob(JB):          </th> <td>1.01e-06</td>\n",
       "</tr>\n",
       "<tr>\n",
       "  <th>Kurtosis:</th>      <td> 3.292</td> <th>  Cond. No.          </th> <td>3.62e+04</td>\n",
       "</tr>\n",
       "</table><br/><br/>Warnings:<br/>[1] Standard Errors assume that the covariance matrix of the errors is correctly specified.<br/>[2] The condition number is large, 3.62e+04. This might indicate that there are<br/>strong multicollinearity or other numerical problems."
      ],
      "text/plain": [
       "<class 'statsmodels.iolib.summary.Summary'>\n",
       "\"\"\"\n",
       "                            OLS Regression Results                            \n",
       "==============================================================================\n",
       "Dep. Variable:                  price   R-squared:                       0.639\n",
       "Model:                            OLS   Adj. R-squared:                  0.639\n",
       "Method:                 Least Squares   F-statistic:                     1847.\n",
       "Date:                Sat, 26 Dec 2020   Prob (F-statistic):               0.00\n",
       "Time:                        22:42:11   Log-Likelihood:                 68797.\n",
       "No. Observations:                6259   AIC:                        -1.376e+05\n",
       "Df Residuals:                    6252   BIC:                        -1.375e+05\n",
       "Df Model:                           6                                         \n",
       "Covariance Type:            nonrobust                                         \n",
       "==============================================================================\n",
       "                 coef    std err          t      P>|t|      [0.025      0.975]\n",
       "------------------------------------------------------------------------------\n",
       "Intercept      0.6327      0.001    949.292      0.000       0.631       0.634\n",
       "speed         -0.0248      0.001    -33.508      0.000      -0.026      -0.023\n",
       "hd             0.0040      0.001      6.553      0.000       0.003       0.005\n",
       "ram           -0.0023   5.81e-05    -39.808      0.000      -0.002      -0.002\n",
       "screen         0.0003   1.39e-05     20.315      0.000       0.000       0.000\n",
       "ads            0.0002   4.38e-06     37.867      0.000       0.000       0.000\n",
       "trend       4.805e-05   1.04e-06     46.370      0.000     4.6e-05    5.01e-05\n",
       "==============================================================================\n",
       "Omnibus:                       22.863   Durbin-Watson:                   1.665\n",
       "Prob(Omnibus):                  0.000   Jarque-Bera (JB):               27.604\n",
       "Skew:                           0.072   Prob(JB):                     1.01e-06\n",
       "Kurtosis:                       3.292   Cond. No.                     3.62e+04\n",
       "==============================================================================\n",
       "\n",
       "Warnings:\n",
       "[1] Standard Errors assume that the covariance matrix of the errors is correctly specified.\n",
       "[2] The condition number is large, 3.62e+04. This might indicate that there are\n",
       "strong multicollinearity or other numerical problems.\n",
       "\"\"\""
      ]
     },
     "execution_count": 28,
     "metadata": {},
     "output_type": "execute_result"
    }
   ],
   "source": [
    "model_3.summary() "
   ]
  },
  {
   "cell_type": "code",
   "execution_count": null,
   "metadata": {},
   "outputs": [],
   "source": []
  }
 ],
 "metadata": {
  "kernelspec": {
   "display_name": "Python 3",
   "language": "python",
   "name": "python3"
  },
  "language_info": {
   "codemirror_mode": {
    "name": "ipython",
    "version": 3
   },
   "file_extension": ".py",
   "mimetype": "text/x-python",
   "name": "python",
   "nbconvert_exporter": "python",
   "pygments_lexer": "ipython3",
   "version": "3.7.6"
  }
 },
 "nbformat": 4,
 "nbformat_minor": 4
}
