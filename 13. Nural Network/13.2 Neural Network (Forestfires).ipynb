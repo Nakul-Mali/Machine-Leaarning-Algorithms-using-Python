{
 "cells": [
  {
   "cell_type": "markdown",
   "metadata": {},
   "source": [
    "### Predict The Burned Area of Forest Fires With Neural Network "
   ]
  },
  {
   "cell_type": "markdown",
   "metadata": {},
   "source": [
    "#### Importing Libearies "
   ]
  },
  {
   "cell_type": "code",
   "execution_count": 1,
   "metadata": {},
   "outputs": [
    {
     "name": "stderr",
     "output_type": "stream",
     "text": [
      "Using TensorFlow backend.\n"
     ]
    }
   ],
   "source": [
    "import pandas as pd \n",
    "import numpy as np \n",
    "import matplotlib.pyplot as plt\n",
    "import seaborn as sns \n",
    "import altair as alt\n",
    "from sklearn.model_selection import train_test_split \n",
    "from keras.models import Sequential\n",
    "from keras.layers import Dense, Activation,Layer,Lambda"
   ]
  },
  {
   "cell_type": "markdown",
   "metadata": {},
   "source": [
    "#### Import the Dataset  "
   ]
  },
  {
   "cell_type": "code",
   "execution_count": 2,
   "metadata": {},
   "outputs": [],
   "source": [
    "data = pd.read_csv('F://Data_Set/forestfires.csv') "
   ]
  },
  {
   "cell_type": "code",
   "execution_count": 3,
   "metadata": {},
   "outputs": [
    {
     "data": {
      "text/html": [
       "<div>\n",
       "<style scoped>\n",
       "    .dataframe tbody tr th:only-of-type {\n",
       "        vertical-align: middle;\n",
       "    }\n",
       "\n",
       "    .dataframe tbody tr th {\n",
       "        vertical-align: top;\n",
       "    }\n",
       "\n",
       "    .dataframe thead th {\n",
       "        text-align: right;\n",
       "    }\n",
       "</style>\n",
       "<table border=\"1\" class=\"dataframe\">\n",
       "  <thead>\n",
       "    <tr style=\"text-align: right;\">\n",
       "      <th></th>\n",
       "      <th>month</th>\n",
       "      <th>day</th>\n",
       "      <th>FFMC</th>\n",
       "      <th>DMC</th>\n",
       "      <th>DC</th>\n",
       "      <th>ISI</th>\n",
       "      <th>temp</th>\n",
       "      <th>RH</th>\n",
       "      <th>wind</th>\n",
       "      <th>rain</th>\n",
       "      <th>...</th>\n",
       "      <th>monthfeb</th>\n",
       "      <th>monthjan</th>\n",
       "      <th>monthjul</th>\n",
       "      <th>monthjun</th>\n",
       "      <th>monthmar</th>\n",
       "      <th>monthmay</th>\n",
       "      <th>monthnov</th>\n",
       "      <th>monthoct</th>\n",
       "      <th>monthsep</th>\n",
       "      <th>size_category</th>\n",
       "    </tr>\n",
       "  </thead>\n",
       "  <tbody>\n",
       "    <tr>\n",
       "      <th>0</th>\n",
       "      <td>mar</td>\n",
       "      <td>fri</td>\n",
       "      <td>86.2</td>\n",
       "      <td>26.2</td>\n",
       "      <td>94.3</td>\n",
       "      <td>5.1</td>\n",
       "      <td>8.2</td>\n",
       "      <td>51</td>\n",
       "      <td>6.7</td>\n",
       "      <td>0.0</td>\n",
       "      <td>...</td>\n",
       "      <td>0</td>\n",
       "      <td>0</td>\n",
       "      <td>0</td>\n",
       "      <td>0</td>\n",
       "      <td>1</td>\n",
       "      <td>0</td>\n",
       "      <td>0</td>\n",
       "      <td>0</td>\n",
       "      <td>0</td>\n",
       "      <td>small</td>\n",
       "    </tr>\n",
       "    <tr>\n",
       "      <th>1</th>\n",
       "      <td>oct</td>\n",
       "      <td>tue</td>\n",
       "      <td>90.6</td>\n",
       "      <td>35.4</td>\n",
       "      <td>669.1</td>\n",
       "      <td>6.7</td>\n",
       "      <td>18.0</td>\n",
       "      <td>33</td>\n",
       "      <td>0.9</td>\n",
       "      <td>0.0</td>\n",
       "      <td>...</td>\n",
       "      <td>0</td>\n",
       "      <td>0</td>\n",
       "      <td>0</td>\n",
       "      <td>0</td>\n",
       "      <td>0</td>\n",
       "      <td>0</td>\n",
       "      <td>0</td>\n",
       "      <td>1</td>\n",
       "      <td>0</td>\n",
       "      <td>small</td>\n",
       "    </tr>\n",
       "    <tr>\n",
       "      <th>2</th>\n",
       "      <td>oct</td>\n",
       "      <td>sat</td>\n",
       "      <td>90.6</td>\n",
       "      <td>43.7</td>\n",
       "      <td>686.9</td>\n",
       "      <td>6.7</td>\n",
       "      <td>14.6</td>\n",
       "      <td>33</td>\n",
       "      <td>1.3</td>\n",
       "      <td>0.0</td>\n",
       "      <td>...</td>\n",
       "      <td>0</td>\n",
       "      <td>0</td>\n",
       "      <td>0</td>\n",
       "      <td>0</td>\n",
       "      <td>0</td>\n",
       "      <td>0</td>\n",
       "      <td>0</td>\n",
       "      <td>1</td>\n",
       "      <td>0</td>\n",
       "      <td>small</td>\n",
       "    </tr>\n",
       "    <tr>\n",
       "      <th>3</th>\n",
       "      <td>mar</td>\n",
       "      <td>fri</td>\n",
       "      <td>91.7</td>\n",
       "      <td>33.3</td>\n",
       "      <td>77.5</td>\n",
       "      <td>9.0</td>\n",
       "      <td>8.3</td>\n",
       "      <td>97</td>\n",
       "      <td>4.0</td>\n",
       "      <td>0.2</td>\n",
       "      <td>...</td>\n",
       "      <td>0</td>\n",
       "      <td>0</td>\n",
       "      <td>0</td>\n",
       "      <td>0</td>\n",
       "      <td>1</td>\n",
       "      <td>0</td>\n",
       "      <td>0</td>\n",
       "      <td>0</td>\n",
       "      <td>0</td>\n",
       "      <td>small</td>\n",
       "    </tr>\n",
       "    <tr>\n",
       "      <th>4</th>\n",
       "      <td>mar</td>\n",
       "      <td>sun</td>\n",
       "      <td>89.3</td>\n",
       "      <td>51.3</td>\n",
       "      <td>102.2</td>\n",
       "      <td>9.6</td>\n",
       "      <td>11.4</td>\n",
       "      <td>99</td>\n",
       "      <td>1.8</td>\n",
       "      <td>0.0</td>\n",
       "      <td>...</td>\n",
       "      <td>0</td>\n",
       "      <td>0</td>\n",
       "      <td>0</td>\n",
       "      <td>0</td>\n",
       "      <td>1</td>\n",
       "      <td>0</td>\n",
       "      <td>0</td>\n",
       "      <td>0</td>\n",
       "      <td>0</td>\n",
       "      <td>small</td>\n",
       "    </tr>\n",
       "  </tbody>\n",
       "</table>\n",
       "<p>5 rows × 31 columns</p>\n",
       "</div>"
      ],
      "text/plain": [
       "  month  day  FFMC   DMC     DC  ISI  temp  RH  wind  rain  ...  monthfeb  \\\n",
       "0   mar  fri  86.2  26.2   94.3  5.1   8.2  51   6.7   0.0  ...         0   \n",
       "1   oct  tue  90.6  35.4  669.1  6.7  18.0  33   0.9   0.0  ...         0   \n",
       "2   oct  sat  90.6  43.7  686.9  6.7  14.6  33   1.3   0.0  ...         0   \n",
       "3   mar  fri  91.7  33.3   77.5  9.0   8.3  97   4.0   0.2  ...         0   \n",
       "4   mar  sun  89.3  51.3  102.2  9.6  11.4  99   1.8   0.0  ...         0   \n",
       "\n",
       "   monthjan  monthjul  monthjun  monthmar  monthmay  monthnov  monthoct  \\\n",
       "0         0         0         0         1         0         0         0   \n",
       "1         0         0         0         0         0         0         1   \n",
       "2         0         0         0         0         0         0         1   \n",
       "3         0         0         0         1         0         0         0   \n",
       "4         0         0         0         1         0         0         0   \n",
       "\n",
       "   monthsep  size_category  \n",
       "0         0          small  \n",
       "1         0          small  \n",
       "2         0          small  \n",
       "3         0          small  \n",
       "4         0          small  \n",
       "\n",
       "[5 rows x 31 columns]"
      ]
     },
     "execution_count": 3,
     "metadata": {},
     "output_type": "execute_result"
    }
   ],
   "source": [
    "data.head() "
   ]
  },
  {
   "cell_type": "markdown",
   "metadata": {},
   "source": [
    "Check any Null Value Present in the Dataset or Not "
   ]
  },
  {
   "cell_type": "code",
   "execution_count": 4,
   "metadata": {},
   "outputs": [
    {
     "data": {
      "text/plain": [
       "month            0\n",
       "day              0\n",
       "FFMC             0\n",
       "DMC              0\n",
       "DC               0\n",
       "ISI              0\n",
       "temp             0\n",
       "RH               0\n",
       "wind             0\n",
       "rain             0\n",
       "area             0\n",
       "dayfri           0\n",
       "daymon           0\n",
       "daysat           0\n",
       "daysun           0\n",
       "daythu           0\n",
       "daytue           0\n",
       "daywed           0\n",
       "monthapr         0\n",
       "monthaug         0\n",
       "monthdec         0\n",
       "monthfeb         0\n",
       "monthjan         0\n",
       "monthjul         0\n",
       "monthjun         0\n",
       "monthmar         0\n",
       "monthmay         0\n",
       "monthnov         0\n",
       "monthoct         0\n",
       "monthsep         0\n",
       "size_category    0\n",
       "dtype: int64"
      ]
     },
     "execution_count": 4,
     "metadata": {},
     "output_type": "execute_result"
    }
   ],
   "source": [
    "data.isnull().sum()  "
   ]
  },
  {
   "cell_type": "markdown",
   "metadata": {},
   "source": [
    "Check Information of the Dataset"
   ]
  },
  {
   "cell_type": "code",
   "execution_count": 5,
   "metadata": {},
   "outputs": [
    {
     "name": "stdout",
     "output_type": "stream",
     "text": [
      "<class 'pandas.core.frame.DataFrame'>\n",
      "RangeIndex: 517 entries, 0 to 516\n",
      "Data columns (total 31 columns):\n",
      " #   Column         Non-Null Count  Dtype  \n",
      "---  ------         --------------  -----  \n",
      " 0   month          517 non-null    object \n",
      " 1   day            517 non-null    object \n",
      " 2   FFMC           517 non-null    float64\n",
      " 3   DMC            517 non-null    float64\n",
      " 4   DC             517 non-null    float64\n",
      " 5   ISI            517 non-null    float64\n",
      " 6   temp           517 non-null    float64\n",
      " 7   RH             517 non-null    int64  \n",
      " 8   wind           517 non-null    float64\n",
      " 9   rain           517 non-null    float64\n",
      " 10  area           517 non-null    float64\n",
      " 11  dayfri         517 non-null    int64  \n",
      " 12  daymon         517 non-null    int64  \n",
      " 13  daysat         517 non-null    int64  \n",
      " 14  daysun         517 non-null    int64  \n",
      " 15  daythu         517 non-null    int64  \n",
      " 16  daytue         517 non-null    int64  \n",
      " 17  daywed         517 non-null    int64  \n",
      " 18  monthapr       517 non-null    int64  \n",
      " 19  monthaug       517 non-null    int64  \n",
      " 20  monthdec       517 non-null    int64  \n",
      " 21  monthfeb       517 non-null    int64  \n",
      " 22  monthjan       517 non-null    int64  \n",
      " 23  monthjul       517 non-null    int64  \n",
      " 24  monthjun       517 non-null    int64  \n",
      " 25  monthmar       517 non-null    int64  \n",
      " 26  monthmay       517 non-null    int64  \n",
      " 27  monthnov       517 non-null    int64  \n",
      " 28  monthoct       517 non-null    int64  \n",
      " 29  monthsep       517 non-null    int64  \n",
      " 30  size_category  517 non-null    object \n",
      "dtypes: float64(8), int64(20), object(3)\n",
      "memory usage: 125.3+ KB\n"
     ]
    }
   ],
   "source": [
    "data.info() "
   ]
  },
  {
   "cell_type": "markdown",
   "metadata": {},
   "source": [
    "Check Dataset Descrition "
   ]
  },
  {
   "cell_type": "code",
   "execution_count": 6,
   "metadata": {
    "scrolled": false
   },
   "outputs": [
    {
     "data": {
      "text/html": [
       "<div>\n",
       "<style scoped>\n",
       "    .dataframe tbody tr th:only-of-type {\n",
       "        vertical-align: middle;\n",
       "    }\n",
       "\n",
       "    .dataframe tbody tr th {\n",
       "        vertical-align: top;\n",
       "    }\n",
       "\n",
       "    .dataframe thead th {\n",
       "        text-align: right;\n",
       "    }\n",
       "</style>\n",
       "<table border=\"1\" class=\"dataframe\">\n",
       "  <thead>\n",
       "    <tr style=\"text-align: right;\">\n",
       "      <th></th>\n",
       "      <th>FFMC</th>\n",
       "      <th>DMC</th>\n",
       "      <th>DC</th>\n",
       "      <th>ISI</th>\n",
       "      <th>temp</th>\n",
       "      <th>RH</th>\n",
       "      <th>wind</th>\n",
       "      <th>rain</th>\n",
       "      <th>area</th>\n",
       "      <th>dayfri</th>\n",
       "      <th>...</th>\n",
       "      <th>monthdec</th>\n",
       "      <th>monthfeb</th>\n",
       "      <th>monthjan</th>\n",
       "      <th>monthjul</th>\n",
       "      <th>monthjun</th>\n",
       "      <th>monthmar</th>\n",
       "      <th>monthmay</th>\n",
       "      <th>monthnov</th>\n",
       "      <th>monthoct</th>\n",
       "      <th>monthsep</th>\n",
       "    </tr>\n",
       "  </thead>\n",
       "  <tbody>\n",
       "    <tr>\n",
       "      <th>count</th>\n",
       "      <td>517.000000</td>\n",
       "      <td>517.000000</td>\n",
       "      <td>517.000000</td>\n",
       "      <td>517.000000</td>\n",
       "      <td>517.000000</td>\n",
       "      <td>517.000000</td>\n",
       "      <td>517.000000</td>\n",
       "      <td>517.000000</td>\n",
       "      <td>517.000000</td>\n",
       "      <td>517.000000</td>\n",
       "      <td>...</td>\n",
       "      <td>517.000000</td>\n",
       "      <td>517.000000</td>\n",
       "      <td>517.000000</td>\n",
       "      <td>517.000000</td>\n",
       "      <td>517.000000</td>\n",
       "      <td>517.000000</td>\n",
       "      <td>517.000000</td>\n",
       "      <td>517.000000</td>\n",
       "      <td>517.000000</td>\n",
       "      <td>517.000000</td>\n",
       "    </tr>\n",
       "    <tr>\n",
       "      <th>mean</th>\n",
       "      <td>90.644681</td>\n",
       "      <td>110.872340</td>\n",
       "      <td>547.940039</td>\n",
       "      <td>9.021663</td>\n",
       "      <td>18.889168</td>\n",
       "      <td>44.288201</td>\n",
       "      <td>4.017602</td>\n",
       "      <td>0.021663</td>\n",
       "      <td>12.847292</td>\n",
       "      <td>0.164410</td>\n",
       "      <td>...</td>\n",
       "      <td>0.017408</td>\n",
       "      <td>0.038685</td>\n",
       "      <td>0.003868</td>\n",
       "      <td>0.061896</td>\n",
       "      <td>0.032882</td>\n",
       "      <td>0.104449</td>\n",
       "      <td>0.003868</td>\n",
       "      <td>0.001934</td>\n",
       "      <td>0.029014</td>\n",
       "      <td>0.332689</td>\n",
       "    </tr>\n",
       "    <tr>\n",
       "      <th>std</th>\n",
       "      <td>5.520111</td>\n",
       "      <td>64.046482</td>\n",
       "      <td>248.066192</td>\n",
       "      <td>4.559477</td>\n",
       "      <td>5.806625</td>\n",
       "      <td>16.317469</td>\n",
       "      <td>1.791653</td>\n",
       "      <td>0.295959</td>\n",
       "      <td>63.655818</td>\n",
       "      <td>0.371006</td>\n",
       "      <td>...</td>\n",
       "      <td>0.130913</td>\n",
       "      <td>0.193029</td>\n",
       "      <td>0.062137</td>\n",
       "      <td>0.241199</td>\n",
       "      <td>0.178500</td>\n",
       "      <td>0.306138</td>\n",
       "      <td>0.062137</td>\n",
       "      <td>0.043980</td>\n",
       "      <td>0.168007</td>\n",
       "      <td>0.471632</td>\n",
       "    </tr>\n",
       "    <tr>\n",
       "      <th>min</th>\n",
       "      <td>18.700000</td>\n",
       "      <td>1.100000</td>\n",
       "      <td>7.900000</td>\n",
       "      <td>0.000000</td>\n",
       "      <td>2.200000</td>\n",
       "      <td>15.000000</td>\n",
       "      <td>0.400000</td>\n",
       "      <td>0.000000</td>\n",
       "      <td>0.000000</td>\n",
       "      <td>0.000000</td>\n",
       "      <td>...</td>\n",
       "      <td>0.000000</td>\n",
       "      <td>0.000000</td>\n",
       "      <td>0.000000</td>\n",
       "      <td>0.000000</td>\n",
       "      <td>0.000000</td>\n",
       "      <td>0.000000</td>\n",
       "      <td>0.000000</td>\n",
       "      <td>0.000000</td>\n",
       "      <td>0.000000</td>\n",
       "      <td>0.000000</td>\n",
       "    </tr>\n",
       "    <tr>\n",
       "      <th>25%</th>\n",
       "      <td>90.200000</td>\n",
       "      <td>68.600000</td>\n",
       "      <td>437.700000</td>\n",
       "      <td>6.500000</td>\n",
       "      <td>15.500000</td>\n",
       "      <td>33.000000</td>\n",
       "      <td>2.700000</td>\n",
       "      <td>0.000000</td>\n",
       "      <td>0.000000</td>\n",
       "      <td>0.000000</td>\n",
       "      <td>...</td>\n",
       "      <td>0.000000</td>\n",
       "      <td>0.000000</td>\n",
       "      <td>0.000000</td>\n",
       "      <td>0.000000</td>\n",
       "      <td>0.000000</td>\n",
       "      <td>0.000000</td>\n",
       "      <td>0.000000</td>\n",
       "      <td>0.000000</td>\n",
       "      <td>0.000000</td>\n",
       "      <td>0.000000</td>\n",
       "    </tr>\n",
       "    <tr>\n",
       "      <th>50%</th>\n",
       "      <td>91.600000</td>\n",
       "      <td>108.300000</td>\n",
       "      <td>664.200000</td>\n",
       "      <td>8.400000</td>\n",
       "      <td>19.300000</td>\n",
       "      <td>42.000000</td>\n",
       "      <td>4.000000</td>\n",
       "      <td>0.000000</td>\n",
       "      <td>0.520000</td>\n",
       "      <td>0.000000</td>\n",
       "      <td>...</td>\n",
       "      <td>0.000000</td>\n",
       "      <td>0.000000</td>\n",
       "      <td>0.000000</td>\n",
       "      <td>0.000000</td>\n",
       "      <td>0.000000</td>\n",
       "      <td>0.000000</td>\n",
       "      <td>0.000000</td>\n",
       "      <td>0.000000</td>\n",
       "      <td>0.000000</td>\n",
       "      <td>0.000000</td>\n",
       "    </tr>\n",
       "    <tr>\n",
       "      <th>75%</th>\n",
       "      <td>92.900000</td>\n",
       "      <td>142.400000</td>\n",
       "      <td>713.900000</td>\n",
       "      <td>10.800000</td>\n",
       "      <td>22.800000</td>\n",
       "      <td>53.000000</td>\n",
       "      <td>4.900000</td>\n",
       "      <td>0.000000</td>\n",
       "      <td>6.570000</td>\n",
       "      <td>0.000000</td>\n",
       "      <td>...</td>\n",
       "      <td>0.000000</td>\n",
       "      <td>0.000000</td>\n",
       "      <td>0.000000</td>\n",
       "      <td>0.000000</td>\n",
       "      <td>0.000000</td>\n",
       "      <td>0.000000</td>\n",
       "      <td>0.000000</td>\n",
       "      <td>0.000000</td>\n",
       "      <td>0.000000</td>\n",
       "      <td>1.000000</td>\n",
       "    </tr>\n",
       "    <tr>\n",
       "      <th>max</th>\n",
       "      <td>96.200000</td>\n",
       "      <td>291.300000</td>\n",
       "      <td>860.600000</td>\n",
       "      <td>56.100000</td>\n",
       "      <td>33.300000</td>\n",
       "      <td>100.000000</td>\n",
       "      <td>9.400000</td>\n",
       "      <td>6.400000</td>\n",
       "      <td>1090.840000</td>\n",
       "      <td>1.000000</td>\n",
       "      <td>...</td>\n",
       "      <td>1.000000</td>\n",
       "      <td>1.000000</td>\n",
       "      <td>1.000000</td>\n",
       "      <td>1.000000</td>\n",
       "      <td>1.000000</td>\n",
       "      <td>1.000000</td>\n",
       "      <td>1.000000</td>\n",
       "      <td>1.000000</td>\n",
       "      <td>1.000000</td>\n",
       "      <td>1.000000</td>\n",
       "    </tr>\n",
       "  </tbody>\n",
       "</table>\n",
       "<p>8 rows × 28 columns</p>\n",
       "</div>"
      ],
      "text/plain": [
       "             FFMC         DMC          DC         ISI        temp          RH  \\\n",
       "count  517.000000  517.000000  517.000000  517.000000  517.000000  517.000000   \n",
       "mean    90.644681  110.872340  547.940039    9.021663   18.889168   44.288201   \n",
       "std      5.520111   64.046482  248.066192    4.559477    5.806625   16.317469   \n",
       "min     18.700000    1.100000    7.900000    0.000000    2.200000   15.000000   \n",
       "25%     90.200000   68.600000  437.700000    6.500000   15.500000   33.000000   \n",
       "50%     91.600000  108.300000  664.200000    8.400000   19.300000   42.000000   \n",
       "75%     92.900000  142.400000  713.900000   10.800000   22.800000   53.000000   \n",
       "max     96.200000  291.300000  860.600000   56.100000   33.300000  100.000000   \n",
       "\n",
       "             wind        rain         area      dayfri  ...    monthdec  \\\n",
       "count  517.000000  517.000000   517.000000  517.000000  ...  517.000000   \n",
       "mean     4.017602    0.021663    12.847292    0.164410  ...    0.017408   \n",
       "std      1.791653    0.295959    63.655818    0.371006  ...    0.130913   \n",
       "min      0.400000    0.000000     0.000000    0.000000  ...    0.000000   \n",
       "25%      2.700000    0.000000     0.000000    0.000000  ...    0.000000   \n",
       "50%      4.000000    0.000000     0.520000    0.000000  ...    0.000000   \n",
       "75%      4.900000    0.000000     6.570000    0.000000  ...    0.000000   \n",
       "max      9.400000    6.400000  1090.840000    1.000000  ...    1.000000   \n",
       "\n",
       "         monthfeb    monthjan    monthjul    monthjun    monthmar    monthmay  \\\n",
       "count  517.000000  517.000000  517.000000  517.000000  517.000000  517.000000   \n",
       "mean     0.038685    0.003868    0.061896    0.032882    0.104449    0.003868   \n",
       "std      0.193029    0.062137    0.241199    0.178500    0.306138    0.062137   \n",
       "min      0.000000    0.000000    0.000000    0.000000    0.000000    0.000000   \n",
       "25%      0.000000    0.000000    0.000000    0.000000    0.000000    0.000000   \n",
       "50%      0.000000    0.000000    0.000000    0.000000    0.000000    0.000000   \n",
       "75%      0.000000    0.000000    0.000000    0.000000    0.000000    0.000000   \n",
       "max      1.000000    1.000000    1.000000    1.000000    1.000000    1.000000   \n",
       "\n",
       "         monthnov    monthoct    monthsep  \n",
       "count  517.000000  517.000000  517.000000  \n",
       "mean     0.001934    0.029014    0.332689  \n",
       "std      0.043980    0.168007    0.471632  \n",
       "min      0.000000    0.000000    0.000000  \n",
       "25%      0.000000    0.000000    0.000000  \n",
       "50%      0.000000    0.000000    0.000000  \n",
       "75%      0.000000    0.000000    1.000000  \n",
       "max      1.000000    1.000000    1.000000  \n",
       "\n",
       "[8 rows x 28 columns]"
      ]
     },
     "execution_count": 6,
     "metadata": {},
     "output_type": "execute_result"
    }
   ],
   "source": [
    "data.describe() "
   ]
  },
  {
   "cell_type": "markdown",
   "metadata": {},
   "source": [
    "Shape of Dataset"
   ]
  },
  {
   "cell_type": "code",
   "execution_count": 7,
   "metadata": {},
   "outputs": [
    {
     "data": {
      "text/plain": [
       "(517, 31)"
      ]
     },
     "execution_count": 7,
     "metadata": {},
     "output_type": "execute_result"
    }
   ],
   "source": [
    "data.shape "
   ]
  },
  {
   "cell_type": "markdown",
   "metadata": {},
   "source": [
    "Columns of the Dataset "
   ]
  },
  {
   "cell_type": "code",
   "execution_count": 8,
   "metadata": {},
   "outputs": [
    {
     "data": {
      "text/plain": [
       "Index(['month', 'day', 'FFMC', 'DMC', 'DC', 'ISI', 'temp', 'RH', 'wind',\n",
       "       'rain', 'area', 'dayfri', 'daymon', 'daysat', 'daysun', 'daythu',\n",
       "       'daytue', 'daywed', 'monthapr', 'monthaug', 'monthdec', 'monthfeb',\n",
       "       'monthjan', 'monthjul', 'monthjun', 'monthmar', 'monthmay', 'monthnov',\n",
       "       'monthoct', 'monthsep', 'size_category'],\n",
       "      dtype='object')"
      ]
     },
     "execution_count": 8,
     "metadata": {},
     "output_type": "execute_result"
    }
   ],
   "source": [
    "data.columns "
   ]
  },
  {
   "cell_type": "code",
   "execution_count": null,
   "metadata": {},
   "outputs": [],
   "source": []
  },
  {
   "cell_type": "markdown",
   "metadata": {},
   "source": [
    "#### Visualize the Given Dataset"
   ]
  },
  {
   "cell_type": "markdown",
   "metadata": {},
   "source": [
    "Bar graph of area vs month"
   ]
  },
  {
   "cell_type": "code",
   "execution_count": 9,
   "metadata": {},
   "outputs": [
    {
     "data": {
      "text/html": [
       "<div>\n",
       "<style scoped>\n",
       "    .dataframe tbody tr th:only-of-type {\n",
       "        vertical-align: middle;\n",
       "    }\n",
       "\n",
       "    .dataframe tbody tr th {\n",
       "        vertical-align: top;\n",
       "    }\n",
       "\n",
       "    .dataframe thead th {\n",
       "        text-align: right;\n",
       "    }\n",
       "</style>\n",
       "<table border=\"1\" class=\"dataframe\">\n",
       "  <thead>\n",
       "    <tr style=\"text-align: right;\">\n",
       "      <th></th>\n",
       "      <th>area</th>\n",
       "      <th>month</th>\n",
       "    </tr>\n",
       "  </thead>\n",
       "  <tbody>\n",
       "    <tr>\n",
       "      <th>0</th>\n",
       "      <td>80.02</td>\n",
       "      <td>apr</td>\n",
       "    </tr>\n",
       "    <tr>\n",
       "      <th>1</th>\n",
       "      <td>2297.99</td>\n",
       "      <td>aug</td>\n",
       "    </tr>\n",
       "    <tr>\n",
       "      <th>2</th>\n",
       "      <td>119.97</td>\n",
       "      <td>dec</td>\n",
       "    </tr>\n",
       "    <tr>\n",
       "      <th>3</th>\n",
       "      <td>125.50</td>\n",
       "      <td>feb</td>\n",
       "    </tr>\n",
       "  </tbody>\n",
       "</table>\n",
       "</div>"
      ],
      "text/plain": [
       "      area month\n",
       "0    80.02   apr\n",
       "1  2297.99   aug\n",
       "2   119.97   dec\n",
       "3   125.50   feb"
      ]
     },
     "execution_count": 9,
     "metadata": {},
     "output_type": "execute_result"
    }
   ],
   "source": [
    "month_count = data[['month', 'area']]\n",
    "\n",
    "month_count = month_count.groupby('month').sum()\n",
    "\n",
    "month_count['month'] = month_count.index\n",
    "\n",
    "month_count.index = range(month_count.shape[0])\n",
    "\n",
    "month_count.head(4) "
   ]
  },
  {
   "cell_type": "code",
   "execution_count": 10,
   "metadata": {},
   "outputs": [
    {
     "data": {
      "text/html": [
       "\n",
       "<div id=\"altair-viz-0045fc3dcf6044689c2474c4fc67a2fe\"></div>\n",
       "<script type=\"text/javascript\">\n",
       "  (function(spec, embedOpt){\n",
       "    let outputDiv = document.currentScript.previousElementSibling;\n",
       "    if (outputDiv.id !== \"altair-viz-0045fc3dcf6044689c2474c4fc67a2fe\") {\n",
       "      outputDiv = document.getElementById(\"altair-viz-0045fc3dcf6044689c2474c4fc67a2fe\");\n",
       "    }\n",
       "    const paths = {\n",
       "      \"vega\": \"https://cdn.jsdelivr.net/npm//vega@5?noext\",\n",
       "      \"vega-lib\": \"https://cdn.jsdelivr.net/npm//vega-lib?noext\",\n",
       "      \"vega-lite\": \"https://cdn.jsdelivr.net/npm//vega-lite@4.8.1?noext\",\n",
       "      \"vega-embed\": \"https://cdn.jsdelivr.net/npm//vega-embed@6?noext\",\n",
       "    };\n",
       "\n",
       "    function loadScript(lib) {\n",
       "      return new Promise(function(resolve, reject) {\n",
       "        var s = document.createElement('script');\n",
       "        s.src = paths[lib];\n",
       "        s.async = true;\n",
       "        s.onload = () => resolve(paths[lib]);\n",
       "        s.onerror = () => reject(`Error loading script: ${paths[lib]}`);\n",
       "        document.getElementsByTagName(\"head\")[0].appendChild(s);\n",
       "      });\n",
       "    }\n",
       "\n",
       "    function showError(err) {\n",
       "      outputDiv.innerHTML = `<div class=\"error\" style=\"color:red;\">${err}</div>`;\n",
       "      throw err;\n",
       "    }\n",
       "\n",
       "    function displayChart(vegaEmbed) {\n",
       "      vegaEmbed(outputDiv, spec, embedOpt)\n",
       "        .catch(err => showError(`Javascript Error: ${err.message}<br>This usually means there's a typo in your chart specification. See the javascript console for the full traceback.`));\n",
       "    }\n",
       "\n",
       "    if(typeof define === \"function\" && define.amd) {\n",
       "      requirejs.config({paths});\n",
       "      require([\"vega-embed\"], displayChart, err => showError(`Error loading script: ${err.message}`));\n",
       "    } else if (typeof vegaEmbed === \"function\") {\n",
       "      displayChart(vegaEmbed);\n",
       "    } else {\n",
       "      loadScript(\"vega\")\n",
       "        .then(() => loadScript(\"vega-lite\"))\n",
       "        .then(() => loadScript(\"vega-embed\"))\n",
       "        .catch(showError)\n",
       "        .then(() => displayChart(vegaEmbed));\n",
       "    }\n",
       "  })({\"config\": {\"view\": {\"continuousWidth\": 400, \"continuousHeight\": 300}}, \"layer\": [{\"mark\": {\"type\": \"bar\", \"color\": \"lightblue\"}, \"encoding\": {\"x\": {\"type\": \"quantitative\", \"field\": \"area\"}, \"y\": {\"type\": \"nominal\", \"field\": \"month\"}}, \"width\": 600}, {\"mark\": {\"type\": \"rule\", \"color\": \"black\"}, \"encoding\": {\"x\": {\"type\": \"quantitative\", \"aggregate\": \"mean\", \"field\": \"area\"}}}, {\"mark\": {\"type\": \"text\", \"align\": \"left\", \"baseline\": \"middle\", \"dx\": 3}, \"encoding\": {\"text\": {\"type\": \"quantitative\", \"field\": \"area\"}, \"x\": {\"type\": \"quantitative\", \"field\": \"area\"}, \"y\": {\"type\": \"nominal\", \"field\": \"month\"}}, \"width\": 600}], \"data\": {\"name\": \"data-7a4972295f7ec731f2c0c9fc8f996f8d\"}, \"$schema\": \"https://vega.github.io/schema/vega-lite/v4.8.1.json\", \"datasets\": {\"data-7a4972295f7ec731f2c0c9fc8f996f8d\": [{\"area\": 80.02000000000001, \"month\": \"apr\"}, {\"area\": 2297.99, \"month\": \"aug\"}, {\"area\": 119.97, \"month\": \"dec\"}, {\"area\": 125.5, \"month\": \"feb\"}, {\"area\": 0.0, \"month\": \"jan\"}, {\"area\": 459.83, \"month\": \"jul\"}, {\"area\": 99.29999999999998, \"month\": \"jun\"}, {\"area\": 235.26000000000002, \"month\": \"mar\"}, {\"area\": 38.48, \"month\": \"may\"}, {\"area\": 0.0, \"month\": \"nov\"}, {\"area\": 99.57, \"month\": \"oct\"}, {\"area\": 3086.129999999998, \"month\": \"sep\"}]}}, {\"mode\": \"vega-lite\"});\n",
       "</script>"
      ],
      "text/plain": [
       "alt.LayerChart(...)"
      ]
     },
     "execution_count": 10,
     "metadata": {},
     "output_type": "execute_result"
    }
   ],
   "source": [
    "bar_graph = alt.Chart(month_count).mark_bar(\n",
    "    color='lightblue'\n",
    ").encode(\n",
    "    x='area',\n",
    "    y='month',\n",
    ").properties(width=600)\n",
    "\n",
    "mean_line = alt.Chart(month_count).mark_rule(\n",
    "    color='black'\n",
    ").encode(\n",
    "    x = 'mean(area)'\n",
    ")\n",
    "\n",
    "annotation = bar_graph.mark_text(\n",
    "    align='left',\n",
    "    baseline='middle',\n",
    "    dx=3\n",
    ").encode(\n",
    "    text='area'\n",
    ")\n",
    "\n",
    "bar_graph + mean_line + annotation "
   ]
  },
  {
   "cell_type": "markdown",
   "metadata": {},
   "source": [
    " Bar Plot of area vs day"
   ]
  },
  {
   "cell_type": "code",
   "execution_count": 12,
   "metadata": {},
   "outputs": [
    {
     "data": {
      "text/html": [
       "<div>\n",
       "<style scoped>\n",
       "    .dataframe tbody tr th:only-of-type {\n",
       "        vertical-align: middle;\n",
       "    }\n",
       "\n",
       "    .dataframe tbody tr th {\n",
       "        vertical-align: top;\n",
       "    }\n",
       "\n",
       "    .dataframe thead th {\n",
       "        text-align: right;\n",
       "    }\n",
       "</style>\n",
       "<table border=\"1\" class=\"dataframe\">\n",
       "  <thead>\n",
       "    <tr style=\"text-align: right;\">\n",
       "      <th></th>\n",
       "      <th>area</th>\n",
       "      <th>day</th>\n",
       "    </tr>\n",
       "  </thead>\n",
       "  <tbody>\n",
       "    <tr>\n",
       "      <th>0</th>\n",
       "      <td>447.24</td>\n",
       "      <td>fri</td>\n",
       "    </tr>\n",
       "    <tr>\n",
       "      <th>1</th>\n",
       "      <td>706.53</td>\n",
       "      <td>mon</td>\n",
       "    </tr>\n",
       "    <tr>\n",
       "      <th>2</th>\n",
       "      <td>2144.86</td>\n",
       "      <td>sat</td>\n",
       "    </tr>\n",
       "    <tr>\n",
       "      <th>3</th>\n",
       "      <td>959.93</td>\n",
       "      <td>sun</td>\n",
       "    </tr>\n",
       "  </tbody>\n",
       "</table>\n",
       "</div>"
      ],
      "text/plain": [
       "      area  day\n",
       "0   447.24  fri\n",
       "1   706.53  mon\n",
       "2  2144.86  sat\n",
       "3   959.93  sun"
      ]
     },
     "execution_count": 12,
     "metadata": {},
     "output_type": "execute_result"
    }
   ],
   "source": [
    "day_count = data[['day', 'area']]\n",
    "\n",
    "day_count = day_count.groupby('day').sum()\n",
    "\n",
    "day_count['day'] = day_count.index\n",
    "\n",
    "day_count.index = range(day_count.shape[0])\n",
    "\n",
    "day_count.head(4)  "
   ]
  },
  {
   "cell_type": "code",
   "execution_count": 13,
   "metadata": {},
   "outputs": [
    {
     "data": {
      "text/html": [
       "\n",
       "<div id=\"altair-viz-76edf68358544ee4ba357c3976a748a7\"></div>\n",
       "<script type=\"text/javascript\">\n",
       "  (function(spec, embedOpt){\n",
       "    let outputDiv = document.currentScript.previousElementSibling;\n",
       "    if (outputDiv.id !== \"altair-viz-76edf68358544ee4ba357c3976a748a7\") {\n",
       "      outputDiv = document.getElementById(\"altair-viz-76edf68358544ee4ba357c3976a748a7\");\n",
       "    }\n",
       "    const paths = {\n",
       "      \"vega\": \"https://cdn.jsdelivr.net/npm//vega@5?noext\",\n",
       "      \"vega-lib\": \"https://cdn.jsdelivr.net/npm//vega-lib?noext\",\n",
       "      \"vega-lite\": \"https://cdn.jsdelivr.net/npm//vega-lite@4.8.1?noext\",\n",
       "      \"vega-embed\": \"https://cdn.jsdelivr.net/npm//vega-embed@6?noext\",\n",
       "    };\n",
       "\n",
       "    function loadScript(lib) {\n",
       "      return new Promise(function(resolve, reject) {\n",
       "        var s = document.createElement('script');\n",
       "        s.src = paths[lib];\n",
       "        s.async = true;\n",
       "        s.onload = () => resolve(paths[lib]);\n",
       "        s.onerror = () => reject(`Error loading script: ${paths[lib]}`);\n",
       "        document.getElementsByTagName(\"head\")[0].appendChild(s);\n",
       "      });\n",
       "    }\n",
       "\n",
       "    function showError(err) {\n",
       "      outputDiv.innerHTML = `<div class=\"error\" style=\"color:red;\">${err}</div>`;\n",
       "      throw err;\n",
       "    }\n",
       "\n",
       "    function displayChart(vegaEmbed) {\n",
       "      vegaEmbed(outputDiv, spec, embedOpt)\n",
       "        .catch(err => showError(`Javascript Error: ${err.message}<br>This usually means there's a typo in your chart specification. See the javascript console for the full traceback.`));\n",
       "    }\n",
       "\n",
       "    if(typeof define === \"function\" && define.amd) {\n",
       "      requirejs.config({paths});\n",
       "      require([\"vega-embed\"], displayChart, err => showError(`Error loading script: ${err.message}`));\n",
       "    } else if (typeof vegaEmbed === \"function\") {\n",
       "      displayChart(vegaEmbed);\n",
       "    } else {\n",
       "      loadScript(\"vega\")\n",
       "        .then(() => loadScript(\"vega-lite\"))\n",
       "        .then(() => loadScript(\"vega-embed\"))\n",
       "        .catch(showError)\n",
       "        .then(() => displayChart(vegaEmbed));\n",
       "    }\n",
       "  })({\"config\": {\"view\": {\"continuousWidth\": 400, \"continuousHeight\": 300}}, \"layer\": [{\"mark\": {\"type\": \"bar\", \"color\": \"lightblue\"}, \"encoding\": {\"x\": {\"type\": \"quantitative\", \"field\": \"area\"}, \"y\": {\"type\": \"nominal\", \"field\": \"day\"}}, \"width\": 600}, {\"mark\": {\"type\": \"rule\", \"color\": \"black\"}, \"encoding\": {\"x\": {\"type\": \"quantitative\", \"aggregate\": \"mean\", \"field\": \"area\"}}}, {\"mark\": {\"type\": \"text\", \"align\": \"left\", \"baseline\": \"middle\", \"dx\": 3}, \"encoding\": {\"text\": {\"type\": \"quantitative\", \"field\": \"area\"}, \"x\": {\"type\": \"quantitative\", \"field\": \"area\"}, \"y\": {\"type\": \"nominal\", \"field\": \"day\"}}, \"width\": 600}], \"data\": {\"name\": \"data-4c75650d26cb7a3185d5d780a96ff09f\"}, \"$schema\": \"https://vega.github.io/schema/vega-lite/v4.8.1.json\", \"datasets\": {\"data-4c75650d26cb7a3185d5d780a96ff09f\": [{\"area\": 447.24, \"day\": \"fri\"}, {\"area\": 706.5300000000001, \"day\": \"mon\"}, {\"area\": 2144.8600000000006, \"day\": \"sat\"}, {\"area\": 959.9299999999998, \"day\": \"sun\"}, {\"area\": 997.1, \"day\": \"thu\"}, {\"area\": 807.79, \"day\": \"tue\"}, {\"area\": 578.6, \"day\": \"wed\"}]}}, {\"mode\": \"vega-lite\"});\n",
       "</script>"
      ],
      "text/plain": [
       "alt.LayerChart(...)"
      ]
     },
     "execution_count": 13,
     "metadata": {},
     "output_type": "execute_result"
    }
   ],
   "source": [
    "bar_graph = alt.Chart(day_count).mark_bar(\n",
    "    color='lightblue'\n",
    ").encode(\n",
    "    x='area',\n",
    "    y='day',\n",
    ").properties(width=600)\n",
    "\n",
    "mean_line = alt.Chart(day_count).mark_rule(\n",
    "    color='black'\n",
    ").encode(\n",
    "    x = 'mean(area)'\n",
    ")\n",
    "\n",
    "annotation = bar_graph.mark_text(\n",
    "    align='left',\n",
    "    baseline='middle',\n",
    "    dx=3\n",
    ").encode(\n",
    "    text='area'\n",
    ")\n",
    "\n",
    "bar_graph + mean_line + annotation "
   ]
  },
  {
   "cell_type": "markdown",
   "metadata": {},
   "source": [
    "#### Histogram of Numerical Data"
   ]
  },
  {
   "cell_type": "markdown",
   "metadata": {},
   "source": [
    "Histogram of FFMC "
   ]
  },
  {
   "cell_type": "code",
   "execution_count": 14,
   "metadata": {},
   "outputs": [
    {
     "data": {
      "text/plain": [
       "(array([  1.,   0.,   0.,   0.,   2.,   2.,   2.,   5.,  68., 437.]),\n",
       " array([18.7 , 26.45, 34.2 , 41.95, 49.7 , 57.45, 65.2 , 72.95, 80.7 ,\n",
       "        88.45, 96.2 ]),\n",
       " <BarContainer object of 10 artists>)"
      ]
     },
     "execution_count": 14,
     "metadata": {},
     "output_type": "execute_result"
    },
    {
     "data": {
      "image/png": "[encoded data removed]",
      "text/plain": [
       "<Figure size 432x288 with 1 Axes>"
      ]
     },
     "metadata": {
      "needs_background": "light"
     },
     "output_type": "display_data"
    }
   ],
   "source": [
    "plt.hist(data['FFMC'])"
   ]
  },
  {
   "cell_type": "markdown",
   "metadata": {},
   "source": [
    "Histogram of DMC"
   ]
  },
  {
   "cell_type": "code",
   "execution_count": 15,
   "metadata": {},
   "outputs": [
    {
     "data": {
      "text/plain": [
       "(array([ 63.,  63.,  49., 114., 113.,  42.,  25.,  23.,   9.,  16.]),\n",
       " array([  1.1 ,  30.12,  59.14,  88.16, 117.18, 146.2 , 175.22, 204.24,\n",
       "        233.26, 262.28, 291.3 ]),\n",
       " <BarContainer object of 10 artists>)"
      ]
     },
     "execution_count": 15,
     "metadata": {},
     "output_type": "execute_result"
    },
    {
     "data": {
      "image/png": "[encoded data removed]",
      "text/plain": [
       "<Figure size 432x288 with 1 Axes>"
      ]
     },
     "metadata": {
      "needs_background": "light"
     },
     "output_type": "display_data"
    }
   ],
   "source": [
    "plt.hist(data['DMC']) "
   ]
  },
  {
   "cell_type": "markdown",
   "metadata": {},
   "source": [
    "Histogram of DC"
   ]
  },
  {
   "cell_type": "code",
   "execution_count": 16,
   "metadata": {},
   "outputs": [
    {
     "data": {
      "text/plain": [
       "(array([ 67.,  21.,   6.,  10.,  25.,  22.,  40., 136., 151.,  39.]),\n",
       " array([  7.9 ,  93.17, 178.44, 263.71, 348.98, 434.25, 519.52, 604.79,\n",
       "        690.06, 775.33, 860.6 ]),\n",
       " <BarContainer object of 10 artists>)"
      ]
     },
     "execution_count": 16,
     "metadata": {},
     "output_type": "execute_result"
    },
    {
     "data": {
      "image/png": "[encoded data removed]",
      "text/plain": [
       "<Figure size 432x288 with 1 Axes>"
      ]
     },
     "metadata": {
      "needs_background": "light"
     },
     "output_type": "display_data"
    }
   ],
   "source": [
    "plt.hist(data['DC']) "
   ]
  },
  {
   "cell_type": "markdown",
   "metadata": {},
   "source": [
    "Histogram of ISI "
   ]
  },
  {
   "cell_type": "code",
   "execution_count": 17,
   "metadata": {},
   "outputs": [
    {
     "data": {
      "text/plain": [
       "(array([ 83., 312.,  93.,  26.,   2.,   0.,   0.,   0.,   0.,   1.]),\n",
       " array([ 0.  ,  5.61, 11.22, 16.83, 22.44, 28.05, 33.66, 39.27, 44.88,\n",
       "        50.49, 56.1 ]),\n",
       " <BarContainer object of 10 artists>)"
      ]
     },
     "execution_count": 17,
     "metadata": {},
     "output_type": "execute_result"
    },
    {
     "data": {
      "image/png": "[encoded data removed]",
      "text/plain": [
       "<Figure size 432x288 with 1 Axes>"
      ]
     },
     "metadata": {
      "needs_background": "light"
     },
     "output_type": "display_data"
    }
   ],
   "source": [
    "plt.hist(data['ISI']) "
   ]
  },
  {
   "cell_type": "markdown",
   "metadata": {},
   "source": [
    "Histogram of temp "
   ]
  },
  {
   "cell_type": "code",
   "execution_count": 18,
   "metadata": {},
   "outputs": [
    {
     "data": {
      "text/plain": [
       "(array([ 18.,  11.,  31.,  47.,  92., 127.,  99.,  55.,  24.,  13.]),\n",
       " array([ 2.2 ,  5.31,  8.42, 11.53, 14.64, 17.75, 20.86, 23.97, 27.08,\n",
       "        30.19, 33.3 ]),\n",
       " <BarContainer object of 10 artists>)"
      ]
     },
     "execution_count": 18,
     "metadata": {},
     "output_type": "execute_result"
    },
    {
     "data": {
      "image/png": "[encoded data removed]",
      "text/plain": [
       "<Figure size 432x288 with 1 Axes>"
      ]
     },
     "metadata": {
      "needs_background": "light"
     },
     "output_type": "display_data"
    }
   ],
   "source": [
    "plt.hist(data['temp']) "
   ]
  },
  {
   "cell_type": "markdown",
   "metadata": {},
   "source": [
    "Histogram of RH "
   ]
  },
  {
   "cell_type": "code",
   "execution_count": 19,
   "metadata": {},
   "outputs": [
    {
     "data": {
      "text/plain": [
       "(array([ 21.,  96., 130., 104.,  63.,  40.,  31.,  20.,   7.,   5.]),\n",
       " array([ 15. ,  23.5,  32. ,  40.5,  49. ,  57.5,  66. ,  74.5,  83. ,\n",
       "         91.5, 100. ]),\n",
       " <BarContainer object of 10 artists>)"
      ]
     },
     "execution_count": 19,
     "metadata": {},
     "output_type": "execute_result"
    },
    {
     "data": {
      "image/png": "[encoded data removed]",
      "text/plain": [
       "<Figure size 432x288 with 1 Axes>"
      ]
     },
     "metadata": {
      "needs_background": "light"
     },
     "output_type": "display_data"
    }
   ],
   "source": [
    "plt.hist(data['RH'])  "
   ]
  },
  {
   "cell_type": "markdown",
   "metadata": {},
   "source": [
    "Histogram of wind "
   ]
  },
  {
   "cell_type": "code",
   "execution_count": 20,
   "metadata": {},
   "outputs": [
    {
     "data": {
      "text/plain": [
       "(array([ 14.,  45.,  97.,  93.,  92., 113.,  19.,  26.,   5.,  13.]),\n",
       " array([0.4, 1.3, 2.2, 3.1, 4. , 4.9, 5.8, 6.7, 7.6, 8.5, 9.4]),\n",
       " <BarContainer object of 10 artists>)"
      ]
     },
     "execution_count": 20,
     "metadata": {},
     "output_type": "execute_result"
    },
    {
     "data": {
      "image/png": "[encoded data removed]",
      "text/plain": [
       "<Figure size 432x288 with 1 Axes>"
      ]
     },
     "metadata": {
      "needs_background": "light"
     },
     "output_type": "display_data"
    }
   ],
   "source": [
    "plt.hist(data['wind']) "
   ]
  },
  {
   "cell_type": "markdown",
   "metadata": {},
   "source": [
    "Histogram of rain "
   ]
  },
  {
   "cell_type": "code",
   "execution_count": 21,
   "metadata": {},
   "outputs": [
    {
     "data": {
      "text/plain": [
       "(array([512.,   3.,   1.,   0.,   0.,   0.,   0.,   0.,   0.,   1.]),\n",
       " array([0.  , 0.64, 1.28, 1.92, 2.56, 3.2 , 3.84, 4.48, 5.12, 5.76, 6.4 ]),\n",
       " <BarContainer object of 10 artists>)"
      ]
     },
     "execution_count": 21,
     "metadata": {},
     "output_type": "execute_result"
    },
    {
     "data": {
      "image/png": "[encoded data removed]",
      "text/plain": [
       "<Figure size 432x288 with 1 Axes>"
      ]
     },
     "metadata": {
      "needs_background": "light"
     },
     "output_type": "display_data"
    }
   ],
   "source": [
    "plt.hist(data['rain']) "
   ]
  },
  {
   "cell_type": "markdown",
   "metadata": {},
   "source": [
    "#### Scatter Plot"
   ]
  },
  {
   "cell_type": "markdown",
   "metadata": {},
   "source": [
    "Scatter Plot of FFMC vs Area"
   ]
  },
  {
   "cell_type": "code",
   "execution_count": 22,
   "metadata": {},
   "outputs": [
    {
     "data": {
      "text/plain": [
       "<AxesSubplot:xlabel='FFMC', ylabel='area'>"
      ]
     },
     "execution_count": 22,
     "metadata": {},
     "output_type": "execute_result"
    },
    {
     "data": {
      "image/png": "[encoded data removed]",
      "text/plain": [
       "<Figure size 432x288 with 1 Axes>"
      ]
     },
     "metadata": {
      "needs_background": "light"
     },
     "output_type": "display_data"
    }
   ],
   "source": [
    "sns.scatterplot(x=\"FFMC\", y= \"area\", data = data) "
   ]
  },
  {
   "cell_type": "markdown",
   "metadata": {},
   "source": [
    "Scatter Plot of DMC vs Area "
   ]
  },
  {
   "cell_type": "code",
   "execution_count": 23,
   "metadata": {},
   "outputs": [
    {
     "data": {
      "text/plain": [
       "<AxesSubplot:xlabel='DMC', ylabel='area'>"
      ]
     },
     "execution_count": 23,
     "metadata": {},
     "output_type": "execute_result"
    },
    {
     "data": {
      "image/png": "[encoded data removed]",
      "text/plain": [
       "<Figure size 432x288 with 1 Axes>"
      ]
     },
     "metadata": {
      "needs_background": "light"
     },
     "output_type": "display_data"
    }
   ],
   "source": [
    "sns.scatterplot(x=\"DMC\", y= \"area\", data = data)  "
   ]
  },
  {
   "cell_type": "markdown",
   "metadata": {},
   "source": [
    "Scatter Plot of DC vs Area "
   ]
  },
  {
   "cell_type": "code",
   "execution_count": 24,
   "metadata": {},
   "outputs": [
    {
     "data": {
      "text/plain": [
       "<AxesSubplot:xlabel='DC', ylabel='area'>"
      ]
     },
     "execution_count": 24,
     "metadata": {},
     "output_type": "execute_result"
    },
    {
     "data": {
      "image/png": "[encoded data removed]",
      "text/plain": [
       "<Figure size 432x288 with 1 Axes>"
      ]
     },
     "metadata": {
      "needs_background": "light"
     },
     "output_type": "display_data"
    }
   ],
   "source": [
    "sns.scatterplot(x=\"DC\", y= \"area\", data = data)  "
   ]
  },
  {
   "cell_type": "markdown",
   "metadata": {},
   "source": [
    "Scatter Plot of ISI vs Area"
   ]
  },
  {
   "cell_type": "code",
   "execution_count": 25,
   "metadata": {},
   "outputs": [
    {
     "data": {
      "text/plain": [
       "<AxesSubplot:xlabel='ISI', ylabel='area'>"
      ]
     },
     "execution_count": 25,
     "metadata": {},
     "output_type": "execute_result"
    },
    {
     "data": {
      "image/png": "[encoded data removed]",
      "text/plain": [
       "<Figure size 432x288 with 1 Axes>"
      ]
     },
     "metadata": {
      "needs_background": "light"
     },
     "output_type": "display_data"
    }
   ],
   "source": [
    "sns.scatterplot(x=\"ISI\", y= \"area\", data = data) "
   ]
  },
  {
   "cell_type": "markdown",
   "metadata": {},
   "source": [
    "Scatter Plot of temp vs Area "
   ]
  },
  {
   "cell_type": "code",
   "execution_count": 26,
   "metadata": {},
   "outputs": [
    {
     "data": {
      "text/plain": [
       "<AxesSubplot:xlabel='temp', ylabel='area'>"
      ]
     },
     "execution_count": 26,
     "metadata": {},
     "output_type": "execute_result"
    },
    {
     "data": {
      "image/png": "[encoded data removed]",
      "text/plain": [
       "<Figure size 432x288 with 1 Axes>"
      ]
     },
     "metadata": {
      "needs_background": "light"
     },
     "output_type": "display_data"
    }
   ],
   "source": [
    "sns.scatterplot(x=\"temp\", y= \"area\", data = data) "
   ]
  },
  {
   "cell_type": "markdown",
   "metadata": {},
   "source": [
    "Scatter Plot of RH vs Area"
   ]
  },
  {
   "cell_type": "code",
   "execution_count": 27,
   "metadata": {},
   "outputs": [
    {
     "data": {
      "text/plain": [
       "<AxesSubplot:xlabel='RH', ylabel='area'>"
      ]
     },
     "execution_count": 27,
     "metadata": {},
     "output_type": "execute_result"
    },
    {
     "data": {
      "image/png": "[encoded data removed]",
      "text/plain": [
       "<Figure size 432x288 with 1 Axes>"
      ]
     },
     "metadata": {
      "needs_background": "light"
     },
     "output_type": "display_data"
    }
   ],
   "source": [
    "sns.scatterplot(x=\"RH\", y= \"area\", data = data)  "
   ]
  },
  {
   "cell_type": "markdown",
   "metadata": {},
   "source": [
    "Scatter Plot of wind vs Area"
   ]
  },
  {
   "cell_type": "code",
   "execution_count": 28,
   "metadata": {},
   "outputs": [
    {
     "data": {
      "text/plain": [
       "<AxesSubplot:xlabel='wind', ylabel='area'>"
      ]
     },
     "execution_count": 28,
     "metadata": {},
     "output_type": "execute_result"
    },
    {
     "data": {
      "image/png": "[encoded data removed]",
      "text/plain": [
       "<Figure size 432x288 with 1 Axes>"
      ]
     },
     "metadata": {
      "needs_background": "light"
     },
     "output_type": "display_data"
    }
   ],
   "source": [
    "sns.scatterplot(x=\"wind\", y= \"area\", data = data) "
   ]
  },
  {
   "cell_type": "markdown",
   "metadata": {},
   "source": [
    "Scatter Plot of rain vs Area"
   ]
  },
  {
   "cell_type": "code",
   "execution_count": 29,
   "metadata": {},
   "outputs": [
    {
     "data": {
      "text/plain": [
       "<AxesSubplot:xlabel='rain', ylabel='area'>"
      ]
     },
     "execution_count": 29,
     "metadata": {},
     "output_type": "execute_result"
    },
    {
     "data": {
      "image/png": "[encoded data removed]",
      "text/plain": [
       "<Figure size 432x288 with 1 Axes>"
      ]
     },
     "metadata": {
      "needs_background": "light"
     },
     "output_type": "display_data"
    }
   ],
   "source": [
    "sns.scatterplot(x=\"rain\", y= \"area\", data = data)  "
   ]
  },
  {
   "cell_type": "markdown",
   "metadata": {},
   "source": [
    "#### HeatMap"
   ]
  },
  {
   "cell_type": "code",
   "execution_count": 9,
   "metadata": {},
   "outputs": [
    {
     "data": {
      "text/plain": [
       "<AxesSubplot:>"
      ]
     },
     "execution_count": 9,
     "metadata": {},
     "output_type": "execute_result"
    },
    {
     "data": {
      "image/png": "[encoded data removed]",
      "text/plain": [
       "<Figure size 720x720 with 2 Axes>"
      ]
     },
     "metadata": {
      "needs_background": "light"
     },
     "output_type": "display_data"
    }
   ],
   "source": [
    "plt.figure(figsize=(10,10))\n",
    "sns.heatmap(data.corr(),cmap=\"RdYlGn\") "
   ]
  },
  {
   "cell_type": "markdown",
   "metadata": {},
   "source": [
    "#### Visualizing Categorical Columns"
   ]
  },
  {
   "cell_type": "markdown",
   "metadata": {},
   "source": [
    "Visualize the Month Column"
   ]
  },
  {
   "cell_type": "code",
   "execution_count": 10,
   "metadata": {},
   "outputs": [
    {
     "data": {
      "text/plain": [
       "<AxesSubplot:xlabel='count', ylabel='month'>"
      ]
     },
     "execution_count": 10,
     "metadata": {},
     "output_type": "execute_result"
    },
    {
     "data": {
      "image/png": "[encoded data removed]",
      "text/plain": [
       "<Figure size 1440x288 with 1 Axes>"
      ]
     },
     "metadata": {
      "needs_background": "light"
     },
     "output_type": "display_data"
    }
   ],
   "source": [
    "fig = plt.figure(figsize=(20,4))  \n",
    "plt.style.use('seaborn-ticks')\n",
    "sns.countplot(y=\"month\", data=data)  "
   ]
  },
  {
   "cell_type": "markdown",
   "metadata": {},
   "source": [
    "Visualize the Day Column "
   ]
  },
  {
   "cell_type": "code",
   "execution_count": 11,
   "metadata": {},
   "outputs": [
    {
     "data": {
      "text/plain": [
       "<AxesSubplot:xlabel='count', ylabel='day'>"
      ]
     },
     "execution_count": 11,
     "metadata": {},
     "output_type": "execute_result"
    },
    {
     "data": {
      "image/png": "[encoded data removed]",
      "text/plain": [
       "<Figure size 1440x216 with 1 Axes>"
      ]
     },
     "metadata": {},
     "output_type": "display_data"
    }
   ],
   "source": [
    "fig = plt.figure(figsize=(20,3))   \n",
    "plt.style.use('seaborn-ticks')\n",
    "sns.countplot(y=\"day\", data=data)  "
   ]
  },
  {
   "cell_type": "markdown",
   "metadata": {},
   "source": [
    "Visualize the size_category Column"
   ]
  },
  {
   "cell_type": "code",
   "execution_count": 12,
   "metadata": {},
   "outputs": [
    {
     "data": {
      "text/plain": [
       "<AxesSubplot:xlabel='count', ylabel='size_category'>"
      ]
     },
     "execution_count": 12,
     "metadata": {},
     "output_type": "execute_result"
    },
    {
     "data": {
      "image/png": "[encoded data removed]",
      "text/plain": [
       "<Figure size 1440x72 with 1 Axes>"
      ]
     },
     "metadata": {},
     "output_type": "display_data"
    }
   ],
   "source": [
    "fig = plt.figure(figsize=(20,1))\n",
    "plt.style.use('seaborn-ticks')\n",
    "sns.countplot(y=\"size_category\", data=data) "
   ]
  },
  {
   "cell_type": "markdown",
   "metadata": {},
   "source": [
    "#### Encode Categorical Data"
   ]
  },
  {
   "cell_type": "markdown",
   "metadata": {},
   "source": [
    "Unique Values of Month Column "
   ]
  },
  {
   "cell_type": "code",
   "execution_count": 13,
   "metadata": {},
   "outputs": [
    {
     "data": {
      "text/plain": [
       "array(['mar', 'oct', 'aug', 'sep', 'apr', 'jun', 'jul', 'feb', 'jan',\n",
       "       'dec', 'may', 'nov'], dtype=object)"
      ]
     },
     "execution_count": 13,
     "metadata": {},
     "output_type": "execute_result"
    }
   ],
   "source": [
    "data['month'].unique()  "
   ]
  },
  {
   "cell_type": "markdown",
   "metadata": {},
   "source": [
    "Convert Categorical Values of Month Column in Numerical "
   ]
  },
  {
   "cell_type": "code",
   "execution_count": 14,
   "metadata": {},
   "outputs": [],
   "source": [
    "data.month.replace(('jan','feb','mar','apr','may','jun','jul','aug','sep','oct','nov','dec'),(1,2,3,4,5,6,7,8,9,10,11,12), inplace=True) "
   ]
  },
  {
   "cell_type": "markdown",
   "metadata": {},
   "source": [
    "Unique Values of Day Column "
   ]
  },
  {
   "cell_type": "code",
   "execution_count": 15,
   "metadata": {},
   "outputs": [
    {
     "data": {
      "text/plain": [
       "array(['fri', 'tue', 'sat', 'sun', 'mon', 'wed', 'thu'], dtype=object)"
      ]
     },
     "execution_count": 15,
     "metadata": {},
     "output_type": "execute_result"
    }
   ],
   "source": [
    "data['day'].unique() "
   ]
  },
  {
   "cell_type": "markdown",
   "metadata": {},
   "source": [
    "Convert Categorical Values of Day in Numerical"
   ]
  },
  {
   "cell_type": "code",
   "execution_count": 16,
   "metadata": {},
   "outputs": [],
   "source": [
    "data.day.replace(('mon','tue','wed','thu','fri','sat','sun'),(1,2,3,4,5,6,7), inplace=True) "
   ]
  },
  {
   "cell_type": "markdown",
   "metadata": {},
   "source": [
    "Unique Values of size_category Column "
   ]
  },
  {
   "cell_type": "code",
   "execution_count": 17,
   "metadata": {},
   "outputs": [
    {
     "data": {
      "text/plain": [
       "array(['small', 'large'], dtype=object)"
      ]
     },
     "execution_count": 17,
     "metadata": {},
     "output_type": "execute_result"
    }
   ],
   "source": [
    "data['size_category'].unique() "
   ]
  },
  {
   "cell_type": "markdown",
   "metadata": {},
   "source": [
    "Convert Categorical Value of size_category Column in Numerical "
   ]
  },
  {
   "cell_type": "code",
   "execution_count": 18,
   "metadata": {},
   "outputs": [],
   "source": [
    "data.size_category.replace(('small','large'),(0,1), inplace=True) "
   ]
  },
  {
   "cell_type": "code",
   "execution_count": 19,
   "metadata": {},
   "outputs": [
    {
     "data": {
      "text/html": [
       "<div>\n",
       "<style scoped>\n",
       "    .dataframe tbody tr th:only-of-type {\n",
       "        vertical-align: middle;\n",
       "    }\n",
       "\n",
       "    .dataframe tbody tr th {\n",
       "        vertical-align: top;\n",
       "    }\n",
       "\n",
       "    .dataframe thead th {\n",
       "        text-align: right;\n",
       "    }\n",
       "</style>\n",
       "<table border=\"1\" class=\"dataframe\">\n",
       "  <thead>\n",
       "    <tr style=\"text-align: right;\">\n",
       "      <th></th>\n",
       "      <th>month</th>\n",
       "      <th>day</th>\n",
       "      <th>FFMC</th>\n",
       "      <th>DMC</th>\n",
       "      <th>DC</th>\n",
       "      <th>ISI</th>\n",
       "      <th>temp</th>\n",
       "      <th>RH</th>\n",
       "      <th>wind</th>\n",
       "      <th>rain</th>\n",
       "      <th>...</th>\n",
       "      <th>monthfeb</th>\n",
       "      <th>monthjan</th>\n",
       "      <th>monthjul</th>\n",
       "      <th>monthjun</th>\n",
       "      <th>monthmar</th>\n",
       "      <th>monthmay</th>\n",
       "      <th>monthnov</th>\n",
       "      <th>monthoct</th>\n",
       "      <th>monthsep</th>\n",
       "      <th>size_category</th>\n",
       "    </tr>\n",
       "  </thead>\n",
       "  <tbody>\n",
       "    <tr>\n",
       "      <th>0</th>\n",
       "      <td>3</td>\n",
       "      <td>5</td>\n",
       "      <td>86.2</td>\n",
       "      <td>26.2</td>\n",
       "      <td>94.3</td>\n",
       "      <td>5.1</td>\n",
       "      <td>8.2</td>\n",
       "      <td>51</td>\n",
       "      <td>6.7</td>\n",
       "      <td>0.0</td>\n",
       "      <td>...</td>\n",
       "      <td>0</td>\n",
       "      <td>0</td>\n",
       "      <td>0</td>\n",
       "      <td>0</td>\n",
       "      <td>1</td>\n",
       "      <td>0</td>\n",
       "      <td>0</td>\n",
       "      <td>0</td>\n",
       "      <td>0</td>\n",
       "      <td>0</td>\n",
       "    </tr>\n",
       "    <tr>\n",
       "      <th>1</th>\n",
       "      <td>10</td>\n",
       "      <td>2</td>\n",
       "      <td>90.6</td>\n",
       "      <td>35.4</td>\n",
       "      <td>669.1</td>\n",
       "      <td>6.7</td>\n",
       "      <td>18.0</td>\n",
       "      <td>33</td>\n",
       "      <td>0.9</td>\n",
       "      <td>0.0</td>\n",
       "      <td>...</td>\n",
       "      <td>0</td>\n",
       "      <td>0</td>\n",
       "      <td>0</td>\n",
       "      <td>0</td>\n",
       "      <td>0</td>\n",
       "      <td>0</td>\n",
       "      <td>0</td>\n",
       "      <td>1</td>\n",
       "      <td>0</td>\n",
       "      <td>0</td>\n",
       "    </tr>\n",
       "    <tr>\n",
       "      <th>2</th>\n",
       "      <td>10</td>\n",
       "      <td>6</td>\n",
       "      <td>90.6</td>\n",
       "      <td>43.7</td>\n",
       "      <td>686.9</td>\n",
       "      <td>6.7</td>\n",
       "      <td>14.6</td>\n",
       "      <td>33</td>\n",
       "      <td>1.3</td>\n",
       "      <td>0.0</td>\n",
       "      <td>...</td>\n",
       "      <td>0</td>\n",
       "      <td>0</td>\n",
       "      <td>0</td>\n",
       "      <td>0</td>\n",
       "      <td>0</td>\n",
       "      <td>0</td>\n",
       "      <td>0</td>\n",
       "      <td>1</td>\n",
       "      <td>0</td>\n",
       "      <td>0</td>\n",
       "    </tr>\n",
       "    <tr>\n",
       "      <th>3</th>\n",
       "      <td>3</td>\n",
       "      <td>5</td>\n",
       "      <td>91.7</td>\n",
       "      <td>33.3</td>\n",
       "      <td>77.5</td>\n",
       "      <td>9.0</td>\n",
       "      <td>8.3</td>\n",
       "      <td>97</td>\n",
       "      <td>4.0</td>\n",
       "      <td>0.2</td>\n",
       "      <td>...</td>\n",
       "      <td>0</td>\n",
       "      <td>0</td>\n",
       "      <td>0</td>\n",
       "      <td>0</td>\n",
       "      <td>1</td>\n",
       "      <td>0</td>\n",
       "      <td>0</td>\n",
       "      <td>0</td>\n",
       "      <td>0</td>\n",
       "      <td>0</td>\n",
       "    </tr>\n",
       "    <tr>\n",
       "      <th>4</th>\n",
       "      <td>3</td>\n",
       "      <td>7</td>\n",
       "      <td>89.3</td>\n",
       "      <td>51.3</td>\n",
       "      <td>102.2</td>\n",
       "      <td>9.6</td>\n",
       "      <td>11.4</td>\n",
       "      <td>99</td>\n",
       "      <td>1.8</td>\n",
       "      <td>0.0</td>\n",
       "      <td>...</td>\n",
       "      <td>0</td>\n",
       "      <td>0</td>\n",
       "      <td>0</td>\n",
       "      <td>0</td>\n",
       "      <td>1</td>\n",
       "      <td>0</td>\n",
       "      <td>0</td>\n",
       "      <td>0</td>\n",
       "      <td>0</td>\n",
       "      <td>0</td>\n",
       "    </tr>\n",
       "  </tbody>\n",
       "</table>\n",
       "<p>5 rows × 31 columns</p>\n",
       "</div>"
      ],
      "text/plain": [
       "   month  day  FFMC   DMC     DC  ISI  temp  RH  wind  rain  ...  monthfeb  \\\n",
       "0      3    5  86.2  26.2   94.3  5.1   8.2  51   6.7   0.0  ...         0   \n",
       "1     10    2  90.6  35.4  669.1  6.7  18.0  33   0.9   0.0  ...         0   \n",
       "2     10    6  90.6  43.7  686.9  6.7  14.6  33   1.3   0.0  ...         0   \n",
       "3      3    5  91.7  33.3   77.5  9.0   8.3  97   4.0   0.2  ...         0   \n",
       "4      3    7  89.3  51.3  102.2  9.6  11.4  99   1.8   0.0  ...         0   \n",
       "\n",
       "   monthjan  monthjul  monthjun  monthmar  monthmay  monthnov  monthoct  \\\n",
       "0         0         0         0         1         0         0         0   \n",
       "1         0         0         0         0         0         0         1   \n",
       "2         0         0         0         0         0         0         1   \n",
       "3         0         0         0         1         0         0         0   \n",
       "4         0         0         0         1         0         0         0   \n",
       "\n",
       "   monthsep  size_category  \n",
       "0         0              0  \n",
       "1         0              0  \n",
       "2         0              0  \n",
       "3         0              0  \n",
       "4         0              0  \n",
       "\n",
       "[5 rows x 31 columns]"
      ]
     },
     "execution_count": 19,
     "metadata": {},
     "output_type": "execute_result"
    }
   ],
   "source": [
    "data.head() "
   ]
  },
  {
   "cell_type": "markdown",
   "metadata": {},
   "source": [
    "#### Normalization the Data "
   ]
  },
  {
   "cell_type": "code",
   "execution_count": 20,
   "metadata": {},
   "outputs": [],
   "source": [
    "def norm_func(i):\n",
    "     x = (i-i.min())/(i.max()-i.min())\n",
    "     return (x)\n",
    "\n",
    "predictors = data.iloc[:,0:28]\n",
    "target = data.iloc[:,28]\n",
    "\n",
    "predictors1 = norm_func(predictors) "
   ]
  },
  {
   "cell_type": "markdown",
   "metadata": {},
   "source": [
    "#### Split the Dataset in Traning Set and Test Set  "
   ]
  },
  {
   "cell_type": "code",
   "execution_count": 21,
   "metadata": {},
   "outputs": [],
   "source": [
    "x_train,x_test,y_train,y_test=train_test_split(predictors1,target, test_size=0.2,stratify=target)"
   ]
  },
  {
   "cell_type": "code",
   "execution_count": 22,
   "metadata": {},
   "outputs": [],
   "source": [
    "def prep_model(hidden_dim):\n",
    "    model = Sequential()\n",
    "    for i in range(1,len(hidden_dim)-1):\n",
    "        if (i==1):\n",
    "            model.add(Dense(hidden_dim[i],input_dim=hidden_dim[0],activation=\"relu\"))\n",
    "        else:\n",
    "            model.add(Dense(hidden_dim[i],activation=\"relu\"))\n",
    "    model.add(Dense(hidden_dim[-1],kernel_initializer=\"normal\",activation=\"sigmoid\"))\n",
    "    model.compile(loss=\"binary_crossentropy\",optimizer = \"rmsprop\",metrics = [\"accuracy\"])\n",
    "    return model"
   ]
  },
  {
   "cell_type": "code",
   "execution_count": 23,
   "metadata": {},
   "outputs": [],
   "source": [
    "X= np.asarray(x_train).astype(np.float32)\n",
    "Y= np.asarray(y_train).astype(np.float32)"
   ]
  },
  {
   "cell_type": "code",
   "execution_count": 24,
   "metadata": {},
   "outputs": [
    {
     "name": "stdout",
     "output_type": "stream",
     "text": [
      "Epoch 1/500\n",
      "413/413 [==============================] - 0s 426us/step - loss: 0.6547 - accuracy: 0.8257\n",
      "Epoch 2/500\n",
      "413/413 [==============================] - 0s 75us/step - loss: 0.4965 - accuracy: 0.9709\n",
      "Epoch 3/500\n",
      "413/413 [==============================] - 0s 73us/step - loss: 0.2957 - accuracy: 0.9709\n",
      "Epoch 4/500\n",
      "413/413 [==============================] - 0s 80us/step - loss: 0.1705 - accuracy: 0.9709\n",
      "Epoch 5/500\n",
      "413/413 [==============================] - 0s 80us/step - loss: 0.1327 - accuracy: 0.9709\n",
      "Epoch 6/500\n",
      "413/413 [==============================] - 0s 85us/step - loss: 0.1241 - accuracy: 0.9709\n",
      "Epoch 7/500\n",
      "413/413 [==============================] - 0s 77us/step - loss: 0.1226 - accuracy: 0.9709\n",
      "Epoch 8/500\n",
      "413/413 [==============================] - 0s 70us/step - loss: 0.1184 - accuracy: 0.9709\n",
      "Epoch 9/500\n",
      "413/413 [==============================] - 0s 87us/step - loss: 0.1167 - accuracy: 0.9709\n",
      "Epoch 10/500\n",
      "413/413 [==============================] - 0s 77us/step - loss: 0.1133 - accuracy: 0.9709\n",
      "Epoch 11/500\n",
      "413/413 [==============================] - 0s 75us/step - loss: 0.1104 - accuracy: 0.9709\n",
      "Epoch 12/500\n",
      "413/413 [==============================] - 0s 82us/step - loss: 0.1073 - accuracy: 0.9709\n",
      "Epoch 13/500\n",
      "413/413 [==============================] - 0s 85us/step - loss: 0.1055 - accuracy: 0.9709\n",
      "Epoch 14/500\n",
      "413/413 [==============================] - 0s 85us/step - loss: 0.1034 - accuracy: 0.9709\n",
      "Epoch 15/500\n",
      "413/413 [==============================] - 0s 75us/step - loss: 0.1010 - accuracy: 0.9709\n",
      "Epoch 16/500\n",
      "413/413 [==============================] - 0s 70us/step - loss: 0.0979 - accuracy: 0.9709\n",
      "Epoch 17/500\n",
      "413/413 [==============================] - 0s 87us/step - loss: 0.0963 - accuracy: 0.9709\n",
      "Epoch 18/500\n",
      "413/413 [==============================] - 0s 80us/step - loss: 0.0927 - accuracy: 0.9709\n",
      "Epoch 19/500\n",
      "413/413 [==============================] - 0s 73us/step - loss: 0.0932 - accuracy: 0.9709\n",
      "Epoch 20/500\n",
      "413/413 [==============================] - 0s 85us/step - loss: 0.0894 - accuracy: 0.9709\n",
      "Epoch 21/500\n",
      "413/413 [==============================] - 0s 77us/step - loss: 0.0878 - accuracy: 0.9709\n",
      "Epoch 22/500\n",
      "413/413 [==============================] - 0s 77us/step - loss: 0.0858 - accuracy: 0.9709\n",
      "Epoch 23/500\n",
      "413/413 [==============================] - 0s 82us/step - loss: 0.0839 - accuracy: 0.9709\n",
      "Epoch 24/500\n",
      "413/413 [==============================] - 0s 73us/step - loss: 0.0829 - accuracy: 0.9709\n",
      "Epoch 25/500\n",
      "413/413 [==============================] - 0s 90us/step - loss: 0.0800 - accuracy: 0.9709\n",
      "Epoch 26/500\n",
      "413/413 [==============================] - 0s 80us/step - loss: 0.0778 - accuracy: 0.9709\n",
      "Epoch 27/500\n",
      "413/413 [==============================] - 0s 73us/step - loss: 0.0768 - accuracy: 0.9709\n",
      "Epoch 28/500\n",
      "413/413 [==============================] - 0s 73us/step - loss: 0.0741 - accuracy: 0.9709\n",
      "Epoch 29/500\n",
      "413/413 [==============================] - 0s 73us/step - loss: 0.0747 - accuracy: 0.9709\n",
      "Epoch 30/500\n",
      "413/413 [==============================] - 0s 85us/step - loss: 0.0716 - accuracy: 0.9709\n",
      "Epoch 31/500\n",
      "413/413 [==============================] - 0s 82us/step - loss: 0.0690 - accuracy: 0.9709\n",
      "Epoch 32/500\n",
      "413/413 [==============================] - 0s 82us/step - loss: 0.0671 - accuracy: 0.9709\n",
      "Epoch 33/500\n",
      "413/413 [==============================] - 0s 77us/step - loss: 0.0654 - accuracy: 0.9709\n",
      "Epoch 34/500\n",
      "413/413 [==============================] - 0s 80us/step - loss: 0.0630 - accuracy: 0.9709\n",
      "Epoch 35/500\n",
      "413/413 [==============================] - 0s 73us/step - loss: 0.0601 - accuracy: 0.9709\n",
      "Epoch 36/500\n",
      "413/413 [==============================] - 0s 75us/step - loss: 0.0582 - accuracy: 0.9709\n",
      "Epoch 37/500\n",
      "413/413 [==============================] - 0s 80us/step - loss: 0.0551 - accuracy: 0.9709\n",
      "Epoch 38/500\n",
      "413/413 [==============================] - 0s 77us/step - loss: 0.0536 - accuracy: 0.9709\n",
      "Epoch 39/500\n",
      "413/413 [==============================] - 0s 77us/step - loss: 0.0502 - accuracy: 0.9709\n",
      "Epoch 40/500\n",
      "413/413 [==============================] - 0s 85us/step - loss: 0.0470 - accuracy: 0.9709\n",
      "Epoch 41/500\n",
      "413/413 [==============================] - 0s 75us/step - loss: 0.0452 - accuracy: 0.9709\n",
      "Epoch 42/500\n",
      "413/413 [==============================] - 0s 80us/step - loss: 0.0425 - accuracy: 0.9709\n",
      "Epoch 43/500\n",
      "413/413 [==============================] - 0s 75us/step - loss: 0.0388 - accuracy: 0.9734\n",
      "Epoch 44/500\n",
      "413/413 [==============================] - 0s 77us/step - loss: 0.0369 - accuracy: 0.9758\n",
      "Epoch 45/500\n",
      "413/413 [==============================] - 0s 77us/step - loss: 0.0343 - accuracy: 0.9806\n",
      "Epoch 46/500\n",
      "413/413 [==============================] - 0s 75us/step - loss: 0.0312 - accuracy: 0.9855\n",
      "Epoch 47/500\n",
      "413/413 [==============================] - 0s 75us/step - loss: 0.0302 - accuracy: 0.9855\n",
      "Epoch 48/500\n",
      "413/413 [==============================] - 0s 75us/step - loss: 0.0263 - accuracy: 0.9879\n",
      "Epoch 49/500\n",
      "413/413 [==============================] - 0s 70us/step - loss: 0.0254 - accuracy: 0.9952\n",
      "Epoch 50/500\n",
      "413/413 [==============================] - 0s 82us/step - loss: 0.0238 - accuracy: 0.9903\n",
      "Epoch 51/500\n",
      "413/413 [==============================] - 0s 80us/step - loss: 0.0213 - accuracy: 0.9927\n",
      "Epoch 52/500\n",
      "413/413 [==============================] - 0s 75us/step - loss: 0.0197 - accuracy: 0.9976\n",
      "Epoch 53/500\n",
      "413/413 [==============================] - 0s 90us/step - loss: 0.0181 - accuracy: 0.9976\n",
      "Epoch 54/500\n",
      "413/413 [==============================] - 0s 73us/step - loss: 0.0169 - accuracy: 1.0000\n",
      "Epoch 55/500\n",
      "413/413 [==============================] - 0s 77us/step - loss: 0.0156 - accuracy: 0.9976\n",
      "Epoch 56/500\n",
      "413/413 [==============================] - 0s 68us/step - loss: 0.0145 - accuracy: 0.9976\n",
      "Epoch 57/500\n",
      "413/413 [==============================] - 0s 80us/step - loss: 0.0126 - accuracy: 1.0000\n",
      "Epoch 58/500\n",
      "413/413 [==============================] - 0s 73us/step - loss: 0.0122 - accuracy: 1.0000\n",
      "Epoch 59/500\n",
      "413/413 [==============================] - 0s 75us/step - loss: 0.0101 - accuracy: 1.0000\n",
      "Epoch 60/500\n",
      "413/413 [==============================] - 0s 80us/step - loss: 0.0089 - accuracy: 1.0000\n",
      "Epoch 61/500\n",
      "413/413 [==============================] - 0s 75us/step - loss: 0.0078 - accuracy: 1.0000\n",
      "Epoch 62/500\n",
      "413/413 [==============================] - 0s 65us/step - loss: 0.0068 - accuracy: 1.0000\n",
      "Epoch 63/500\n",
      "413/413 [==============================] - 0s 68us/step - loss: 0.0055 - accuracy: 1.0000\n",
      "Epoch 64/500\n",
      "413/413 [==============================] - 0s 68us/step - loss: 0.0048 - accuracy: 1.0000\n",
      "Epoch 65/500\n",
      "413/413 [==============================] - 0s 65us/step - loss: 0.0040 - accuracy: 1.0000\n",
      "Epoch 66/500\n",
      "413/413 [==============================] - 0s 65us/step - loss: 0.0032 - accuracy: 1.0000\n",
      "Epoch 67/500\n",
      "413/413 [==============================] - 0s 68us/step - loss: 0.0032 - accuracy: 1.0000\n",
      "Epoch 68/500\n",
      "413/413 [==============================] - 0s 65us/step - loss: 0.0020 - accuracy: 1.0000\n",
      "Epoch 69/500\n",
      "413/413 [==============================] - 0s 70us/step - loss: 0.0027 - accuracy: 1.0000\n",
      "Epoch 70/500\n",
      "413/413 [==============================] - 0s 70us/step - loss: 0.0016 - accuracy: 1.0000\n",
      "Epoch 71/500\n",
      "413/413 [==============================] - 0s 68us/step - loss: 0.0012 - accuracy: 1.0000\n",
      "Epoch 72/500\n",
      "413/413 [==============================] - 0s 68us/step - loss: 0.0010 - accuracy: 1.0000\n",
      "Epoch 73/500\n",
      "413/413 [==============================] - 0s 70us/step - loss: 0.0011 - accuracy: 1.0000\n",
      "Epoch 74/500\n",
      "413/413 [==============================] - 0s 68us/step - loss: 7.2051e-04 - accuracy: 1.0000\n",
      "Epoch 75/500\n",
      "413/413 [==============================] - 0s 75us/step - loss: 4.8811e-04 - accuracy: 1.0000\n",
      "Epoch 76/500\n",
      "413/413 [==============================] - 0s 73us/step - loss: 0.0012 - accuracy: 1.0000\n",
      "Epoch 77/500\n",
      "413/413 [==============================] - 0s 77us/step - loss: 3.8481e-04 - accuracy: 1.0000\n",
      "Epoch 78/500\n",
      "413/413 [==============================] - 0s 70us/step - loss: 4.0514e-04 - accuracy: 1.0000\n",
      "Epoch 79/500\n",
      "413/413 [==============================] - 0s 82us/step - loss: 8.2679e-04 - accuracy: 1.0000\n",
      "Epoch 80/500\n"
     ]
    },
    {
     "name": "stdout",
     "output_type": "stream",
     "text": [
      "413/413 [==============================] - 0s 70us/step - loss: 2.6719e-04 - accuracy: 1.0000\n",
      "Epoch 81/500\n",
      "413/413 [==============================] - 0s 70us/step - loss: 2.7179e-04 - accuracy: 1.0000\n",
      "Epoch 82/500\n",
      "413/413 [==============================] - 0s 75us/step - loss: 2.4815e-04 - accuracy: 1.0000\n",
      "Epoch 83/500\n",
      "413/413 [==============================] - 0s 77us/step - loss: 2.2596e-04 - accuracy: 1.0000\n",
      "Epoch 84/500\n",
      "413/413 [==============================] - 0s 75us/step - loss: 2.2941e-04 - accuracy: 1.0000\n",
      "Epoch 85/500\n",
      "413/413 [==============================] - 0s 75us/step - loss: 2.6765e-04 - accuracy: 1.0000\n",
      "Epoch 86/500\n",
      "413/413 [==============================] - 0s 77us/step - loss: 2.5192e-04 - accuracy: 1.0000\n",
      "Epoch 87/500\n",
      "413/413 [==============================] - 0s 68us/step - loss: 1.3076e-04 - accuracy: 1.0000\n",
      "Epoch 88/500\n",
      "413/413 [==============================] - 0s 70us/step - loss: 2.1524e-04 - accuracy: 1.0000\n",
      "Epoch 89/500\n",
      "413/413 [==============================] - 0s 75us/step - loss: 6.8277e-05 - accuracy: 1.0000\n",
      "Epoch 90/500\n",
      "413/413 [==============================] - 0s 75us/step - loss: 8.7506e-05 - accuracy: 1.0000\n",
      "Epoch 91/500\n",
      "413/413 [==============================] - 0s 68us/step - loss: 1.8666e-04 - accuracy: 1.0000\n",
      "Epoch 92/500\n",
      "413/413 [==============================] - 0s 75us/step - loss: 4.9495e-05 - accuracy: 1.0000\n",
      "Epoch 93/500\n",
      "413/413 [==============================] - 0s 63us/step - loss: 6.8970e-05 - accuracy: 1.0000\n",
      "Epoch 94/500\n",
      "413/413 [==============================] - 0s 73us/step - loss: 4.8484e-05 - accuracy: 1.0000\n",
      "Epoch 95/500\n",
      "413/413 [==============================] - 0s 68us/step - loss: 5.4116e-04 - accuracy: 1.0000\n",
      "Epoch 96/500\n",
      "413/413 [==============================] - 0s 65us/step - loss: 3.9561e-05 - accuracy: 1.0000\n",
      "Epoch 97/500\n",
      "413/413 [==============================] - 0s 61us/step - loss: 3.1181e-05 - accuracy: 1.0000\n",
      "Epoch 98/500\n",
      "413/413 [==============================] - 0s 68us/step - loss: 2.7948e-05 - accuracy: 1.0000\n",
      "Epoch 99/500\n",
      "413/413 [==============================] - 0s 73us/step - loss: 2.7674e-05 - accuracy: 1.0000\n",
      "Epoch 100/500\n",
      "413/413 [==============================] - 0s 73us/step - loss: 4.2025e-05 - accuracy: 1.0000\n",
      "Epoch 101/500\n",
      "413/413 [==============================] - 0s 65us/step - loss: 1.2528e-04 - accuracy: 1.0000\n",
      "Epoch 102/500\n",
      "413/413 [==============================] - 0s 65us/step - loss: 1.5863e-05 - accuracy: 1.0000\n",
      "Epoch 103/500\n",
      "413/413 [==============================] - 0s 70us/step - loss: 1.6579e-05 - accuracy: 1.0000\n",
      "Epoch 104/500\n",
      "413/413 [==============================] - 0s 70us/step - loss: 2.2151e-05 - accuracy: 1.0000\n",
      "Epoch 105/500\n",
      "413/413 [==============================] - 0s 65us/step - loss: 2.3033e-05 - accuracy: 1.0000\n",
      "Epoch 106/500\n",
      "413/413 [==============================] - 0s 87us/step - loss: 7.5225e-05 - accuracy: 1.0000\n",
      "Epoch 107/500\n",
      "413/413 [==============================] - 0s 87us/step - loss: 1.0870e-05 - accuracy: 1.0000\n",
      "Epoch 108/500\n",
      "413/413 [==============================] - 0s 82us/step - loss: 1.3822e-05 - accuracy: 1.0000\n",
      "Epoch 109/500\n",
      "413/413 [==============================] - 0s 75us/step - loss: 1.1370e-05 - accuracy: 1.0000\n",
      "Epoch 110/500\n",
      "413/413 [==============================] - 0s 77us/step - loss: 1.0702e-04 - accuracy: 1.0000\n",
      "Epoch 111/500\n",
      "413/413 [==============================] - 0s 77us/step - loss: 6.3278e-06 - accuracy: 1.0000\n",
      "Epoch 112/500\n",
      "413/413 [==============================] - 0s 85us/step - loss: 5.3941e-06 - accuracy: 1.0000\n",
      "Epoch 113/500\n",
      "413/413 [==============================] - 0s 80us/step - loss: 5.8213e-06 - accuracy: 1.0000\n",
      "Epoch 114/500\n",
      "413/413 [==============================] - 0s 75us/step - loss: 1.0449e-05 - accuracy: 1.0000\n",
      "Epoch 115/500\n",
      "413/413 [==============================] - 0s 82us/step - loss: 8.8226e-06 - accuracy: 1.0000\n",
      "Epoch 116/500\n",
      "413/413 [==============================] - 0s 82us/step - loss: 6.3627e-06 - accuracy: 1.0000\n",
      "Epoch 117/500\n",
      "413/413 [==============================] - 0s 75us/step - loss: 1.7910e-05 - accuracy: 1.0000\n",
      "Epoch 118/500\n",
      "413/413 [==============================] - 0s 90us/step - loss: 3.1126e-06 - accuracy: 1.0000\n",
      "Epoch 119/500\n",
      "413/413 [==============================] - 0s 80us/step - loss: 3.6026e-06 - accuracy: 1.0000\n",
      "Epoch 120/500\n",
      "413/413 [==============================] - 0s 80us/step - loss: 2.1476e-06 - accuracy: 1.0000\n",
      "Epoch 121/500\n",
      "413/413 [==============================] - ETA: 0s - loss: 9.8519e-07 - accuracy: 1.00 - 0s 85us/step - loss: 1.5153e-05 - accuracy: 1.0000\n",
      "Epoch 122/500\n",
      "413/413 [==============================] - 0s 85us/step - loss: 2.0158e-06 - accuracy: 1.0000\n",
      "Epoch 123/500\n",
      "413/413 [==============================] - 0s 87us/step - loss: 2.1040e-06 - accuracy: 1.0000\n",
      "Epoch 124/500\n",
      "413/413 [==============================] - 0s 80us/step - loss: 4.5034e-06 - accuracy: 1.0000\n",
      "Epoch 125/500\n",
      "413/413 [==============================] - 0s 92us/step - loss: 1.1996e-04 - accuracy: 1.0000\n",
      "Epoch 126/500\n",
      "413/413 [==============================] - 0s 90us/step - loss: 1.5713e-06 - accuracy: 1.0000\n",
      "Epoch 127/500\n",
      "413/413 [==============================] - 0s 80us/step - loss: 1.3110e-06 - accuracy: 1.0000\n",
      "Epoch 128/500\n",
      "413/413 [==============================] - 0s 82us/step - loss: 1.3425e-06 - accuracy: 1.0000\n",
      "Epoch 129/500\n",
      "413/413 [==============================] - 0s 80us/step - loss: 1.5957e-06 - accuracy: 1.0000\n",
      "Epoch 130/500\n",
      "413/413 [==============================] - 0s 90us/step - loss: 1.4480e-06 - accuracy: 1.0000\n",
      "Epoch 131/500\n",
      "413/413 [==============================] - 0s 92us/step - loss: 5.2279e-06 - accuracy: 1.0000\n",
      "Epoch 132/500\n",
      "413/413 [==============================] - 0s 85us/step - loss: 3.4197e-06 - accuracy: 1.0000\n",
      "Epoch 133/500\n",
      "413/413 [==============================] - 0s 75us/step - loss: 9.3218e-07 - accuracy: 1.0000\n",
      "Epoch 134/500\n",
      "413/413 [==============================] - 0s 80us/step - loss: 1.0218e-06 - accuracy: 1.0000\n",
      "Epoch 135/500\n",
      "413/413 [==============================] - 0s 82us/step - loss: 1.8400e-05 - accuracy: 1.0000\n",
      "Epoch 136/500\n",
      "413/413 [==============================] - 0s 85us/step - loss: 8.7905e-07 - accuracy: 1.0000\n",
      "Epoch 137/500\n",
      "413/413 [==============================] - 0s 82us/step - loss: 7.7559e-07 - accuracy: 1.0000\n",
      "Epoch 138/500\n",
      "413/413 [==============================] - 0s 80us/step - loss: 8.1842e-07 - accuracy: 1.0000\n",
      "Epoch 139/500\n",
      "413/413 [==============================] - 0s 77us/step - loss: 9.4450e-07 - accuracy: 1.0000\n",
      "Epoch 140/500\n",
      "413/413 [==============================] - 0s 82us/step - loss: 5.9563e-07 - accuracy: 1.0000\n",
      "Epoch 141/500\n",
      "413/413 [==============================] - 0s 80us/step - loss: 4.6767e-06 - accuracy: 1.0000\n",
      "Epoch 142/500\n",
      "413/413 [==============================] - 0s 75us/step - loss: 3.7763e-06 - accuracy: 1.0000\n",
      "Epoch 143/500\n",
      "413/413 [==============================] - 0s 80us/step - loss: 3.6971e-07 - accuracy: 1.0000\n",
      "Epoch 144/500\n",
      "413/413 [==============================] - 0s 85us/step - loss: 3.1832e-07 - accuracy: 1.0000\n",
      "Epoch 145/500\n",
      "413/413 [==============================] - 0s 82us/step - loss: 2.9142e-07 - accuracy: 1.0000\n",
      "Epoch 146/500\n",
      "413/413 [==============================] - 0s 77us/step - loss: 2.7101e-07 - accuracy: 1.0000\n",
      "Epoch 147/500\n",
      "413/413 [==============================] - 0s 77us/step - loss: 2.4865e-05 - accuracy: 1.0000\n",
      "Epoch 148/500\n",
      "413/413 [==============================] - 0s 85us/step - loss: 2.5698e-06 - accuracy: 1.0000\n",
      "Epoch 149/500\n",
      "413/413 [==============================] - 0s 80us/step - loss: 3.7355e-07 - accuracy: 1.0000\n",
      "Epoch 150/500\n",
      "413/413 [==============================] - 0s 80us/step - loss: 2.6752e-07 - accuracy: 1.0000\n",
      "Epoch 151/500\n",
      "413/413 [==============================] - 0s 82us/step - loss: 2.3415e-07 - accuracy: 1.0000\n",
      "Epoch 152/500\n",
      "413/413 [==============================] - 0s 80us/step - loss: 2.2423e-07 - accuracy: 1.0000\n",
      "Epoch 153/500\n",
      "413/413 [==============================] - 0s 90us/step - loss: 2.5577e-07 - accuracy: 1.0000\n",
      "Epoch 154/500\n",
      "413/413 [==============================] - 0s 80us/step - loss: 1.7928e-07 - accuracy: 1.0000\n",
      "Epoch 155/500\n"
     ]
    },
    {
     "name": "stdout",
     "output_type": "stream",
     "text": [
      "413/413 [==============================] - 0s 82us/step - loss: 1.5202e-05 - accuracy: 1.0000\n",
      "Epoch 156/500\n",
      "413/413 [==============================] - 0s 82us/step - loss: 7.3065e-07 - accuracy: 1.0000\n",
      "Epoch 157/500\n",
      "413/413 [==============================] - ETA: 0s - loss: 2.7284e-07 - accuracy: 1.00 - 0s 82us/step - loss: 2.0653e-07 - accuracy: 1.0000\n",
      "Epoch 158/500\n",
      "413/413 [==============================] - 0s 85us/step - loss: 1.7076e-07 - accuracy: 1.0000\n",
      "Epoch 159/500\n",
      "413/413 [==============================] - 0s 87us/step - loss: 1.4714e-07 - accuracy: 1.0000\n",
      "Epoch 160/500\n",
      "413/413 [==============================] - 0s 82us/step - loss: 1.5010e-07 - accuracy: 1.0000\n",
      "Epoch 161/500\n",
      "413/413 [==============================] - 0s 82us/step - loss: 1.2671e-07 - accuracy: 1.0000\n",
      "Epoch 162/500\n",
      "413/413 [==============================] - 0s 82us/step - loss: 1.1584e-07 - accuracy: 1.0000\n",
      "Epoch 163/500\n",
      "413/413 [==============================] - 0s 85us/step - loss: 1.1027e-05 - accuracy: 1.0000\n",
      "Epoch 164/500\n",
      "413/413 [==============================] - 0s 80us/step - loss: 3.9265e-07 - accuracy: 1.0000\n",
      "Epoch 165/500\n",
      "413/413 [==============================] - 0s 90us/step - loss: 1.7335e-07 - accuracy: 1.0000\n",
      "Epoch 166/500\n",
      "413/413 [==============================] - 0s 82us/step - loss: 1.2788e-07 - accuracy: 1.0000\n",
      "Epoch 167/500\n",
      "413/413 [==============================] - 0s 82us/step - loss: 9.8110e-08 - accuracy: 1.0000\n",
      "Epoch 168/500\n",
      "413/413 [==============================] - 0s 85us/step - loss: 1.0385e-07 - accuracy: 1.0000\n",
      "Epoch 169/500\n",
      "413/413 [==============================] - 0s 75us/step - loss: 1.0991e-07 - accuracy: 1.0000\n",
      "Epoch 170/500\n",
      "413/413 [==============================] - 0s 82us/step - loss: 9.7136e-08 - accuracy: 1.0000\n",
      "Epoch 171/500\n",
      "413/413 [==============================] - 0s 77us/step - loss: 6.1198e-08 - accuracy: 1.0000\n",
      "Epoch 172/500\n",
      "413/413 [==============================] - 0s 80us/step - loss: 1.4051e-06 - accuracy: 1.0000\n",
      "Epoch 173/500\n",
      "413/413 [==============================] - 0s 77us/step - loss: 8.7751e-08 - accuracy: 1.0000\n",
      "Epoch 174/500\n",
      "413/413 [==============================] - 0s 70us/step - loss: 6.0229e-08 - accuracy: 1.0000\n",
      "Epoch 175/500\n",
      "413/413 [==============================] - 0s 77us/step - loss: 7.3055e-08 - accuracy: 1.0000\n",
      "Epoch 176/500\n",
      "413/413 [==============================] - 0s 80us/step - loss: 9.0677e-07 - accuracy: 1.0000\n",
      "Epoch 177/500\n",
      "413/413 [==============================] - ETA: 0s - loss: 8.7733e-08 - accuracy: 1.00 - 0s 90us/step - loss: 1.1195e-07 - accuracy: 1.0000\n",
      "Epoch 178/500\n",
      "413/413 [==============================] - 0s 90us/step - loss: 6.3739e-08 - accuracy: 1.0000\n",
      "Epoch 179/500\n",
      "413/413 [==============================] - 0s 90us/step - loss: 4.6579e-08 - accuracy: 1.0000\n",
      "Epoch 180/500\n",
      "413/413 [==============================] - 0s 99us/step - loss: 2.5495e-07 - accuracy: 1.0000\n",
      "Epoch 181/500\n",
      "413/413 [==============================] - 0s 90us/step - loss: 3.1580e-07 - accuracy: 1.0000\n",
      "Epoch 182/500\n",
      "413/413 [==============================] - 0s 94us/step - loss: 8.3768e-08 - accuracy: 1.0000\n",
      "Epoch 183/500\n",
      "413/413 [==============================] - 0s 77us/step - loss: 3.0518e-08 - accuracy: 1.0000\n",
      "Epoch 184/500\n",
      "413/413 [==============================] - 0s 85us/step - loss: 2.9961e-08 - accuracy: 1.0000\n",
      "Epoch 185/500\n",
      "413/413 [==============================] - 0s 94us/step - loss: 2.4915e-08 - accuracy: 1.0000\n",
      "Epoch 186/500\n",
      "413/413 [==============================] - 0s 90us/step - loss: 2.0582e-08 - accuracy: 1.0000\n",
      "Epoch 187/500\n",
      "413/413 [==============================] - 0s 94us/step - loss: 1.9026e-08 - accuracy: 1.0000\n",
      "Epoch 188/500\n",
      "413/413 [==============================] - 0s 75us/step - loss: 4.9766e-08 - accuracy: 1.0000\n",
      "Epoch 189/500\n",
      "413/413 [==============================] - 0s 87us/step - loss: 6.2056e-07 - accuracy: 1.0000\n",
      "Epoch 190/500\n",
      "413/413 [==============================] - 0s 65us/step - loss: 2.3724e-08 - accuracy: 1.0000\n",
      "Epoch 191/500\n",
      "413/413 [==============================] - 0s 70us/step - loss: 1.8155e-08 - accuracy: 1.0000\n",
      "Epoch 192/500\n",
      "413/413 [==============================] - 0s 77us/step - loss: 1.8362e-08 - accuracy: 1.0000\n",
      "Epoch 193/500\n",
      "413/413 [==============================] - 0s 73us/step - loss: 1.3375e-08 - accuracy: 1.0000\n",
      "Epoch 194/500\n",
      "413/413 [==============================] - 0s 77us/step - loss: 1.2389e-07 - accuracy: 1.0000\n",
      "Epoch 195/500\n",
      "413/413 [==============================] - 0s 68us/step - loss: 1.0588e-07 - accuracy: 1.0000\n",
      "Epoch 196/500\n",
      "413/413 [==============================] - 0s 75us/step - loss: 9.0031e-09 - accuracy: 1.0000\n",
      "Epoch 197/500\n",
      "413/413 [==============================] - 0s 82us/step - loss: 8.5029e-09 - accuracy: 1.0000\n",
      "Epoch 198/500\n",
      "413/413 [==============================] - 0s 75us/step - loss: 8.3972e-09 - accuracy: 1.0000\n",
      "Epoch 199/500\n",
      "413/413 [==============================] - 0s 70us/step - loss: 7.2024e-09 - accuracy: 1.0000\n",
      "Epoch 200/500\n",
      "413/413 [==============================] - 0s 70us/step - loss: 1.3056e-08 - accuracy: 1.0000\n",
      "Epoch 201/500\n",
      "413/413 [==============================] - 0s 73us/step - loss: 7.1317e-09 - accuracy: 1.0000\n",
      "Epoch 202/500\n",
      "413/413 [==============================] - 0s 61us/step - loss: 1.0363e-08 - accuracy: 1.0000\n",
      "Epoch 203/500\n",
      "413/413 [==============================] - 0s 61us/step - loss: 9.6468e-09 - accuracy: 1.0000\n",
      "Epoch 204/500\n",
      "413/413 [==============================] - 0s 70us/step - loss: 4.5574e-09 - accuracy: 1.0000\n",
      "Epoch 205/500\n",
      "413/413 [==============================] - 0s 70us/step - loss: 4.3070e-09 - accuracy: 1.0000\n",
      "Epoch 206/500\n",
      "413/413 [==============================] - 0s 75us/step - loss: 5.4543e-09 - accuracy: 1.0000\n",
      "Epoch 207/500\n",
      "413/413 [==============================] - 0s 75us/step - loss: 5.4402e-09 - accuracy: 1.0000\n",
      "Epoch 208/500\n",
      "413/413 [==============================] - 0s 70us/step - loss: 4.1754e-09 - accuracy: 1.0000\n",
      "Epoch 209/500\n",
      "413/413 [==============================] - 0s 75us/step - loss: 1.6385e-08 - accuracy: 1.0000\n",
      "Epoch 210/500\n",
      "413/413 [==============================] - 0s 68us/step - loss: 5.8061e-09 - accuracy: 1.0000\n",
      "Epoch 211/500\n",
      "413/413 [==============================] - 0s 70us/step - loss: 6.9091e-08 - accuracy: 1.0000\n",
      "Epoch 212/500\n",
      "413/413 [==============================] - 0s 77us/step - loss: 4.6316e-06 - accuracy: 1.0000\n",
      "Epoch 213/500\n",
      "413/413 [==============================] - 0s 70us/step - loss: 2.3349e-07 - accuracy: 1.0000\n",
      "Epoch 214/500\n",
      "413/413 [==============================] - 0s 77us/step - loss: 4.6395e-08 - accuracy: 1.0000\n",
      "Epoch 215/500\n",
      "413/413 [==============================] - 0s 82us/step - loss: 2.1378e-08 - accuracy: 1.0000\n",
      "Epoch 216/500\n",
      "413/413 [==============================] - 0s 77us/step - loss: 1.1314e-08 - accuracy: 1.0000\n",
      "Epoch 217/500\n",
      "413/413 [==============================] - 0s 82us/step - loss: 6.6274e-09 - accuracy: 1.0000\n",
      "Epoch 218/500\n",
      "413/413 [==============================] - 0s 75us/step - loss: 4.7778e-09 - accuracy: 1.0000\n",
      "Epoch 219/500\n",
      "413/413 [==============================] - 0s 70us/step - loss: 3.6888e-09 - accuracy: 1.0000\n",
      "Epoch 220/500\n",
      "413/413 [==============================] - 0s 70us/step - loss: 3.0095e-09 - accuracy: 1.0000\n",
      "Epoch 221/500\n",
      "413/413 [==============================] - 0s 68us/step - loss: 2.9626e-09 - accuracy: 1.0000\n",
      "Epoch 222/500\n",
      "413/413 [==============================] - 0s 75us/step - loss: 2.7800e-09 - accuracy: 1.0000\n",
      "Epoch 223/500\n",
      "413/413 [==============================] - 0s 70us/step - loss: 3.1343e-09 - accuracy: 1.0000\n",
      "Epoch 224/500\n",
      "413/413 [==============================] - 0s 70us/step - loss: 2.1425e-09 - accuracy: 1.0000\n",
      "Epoch 225/500\n",
      "413/413 [==============================] - 0s 68us/step - loss: 2.8936e-09 - accuracy: 1.0000\n",
      "Epoch 226/500\n",
      "413/413 [==============================] - 0s 65us/step - loss: 4.1160e-09 - accuracy: 1.0000\n",
      "Epoch 227/500\n",
      "413/413 [==============================] - 0s 82us/step - loss: 2.7532e-09 - accuracy: 1.0000\n",
      "Epoch 228/500\n",
      "413/413 [==============================] - 0s 73us/step - loss: 2.5889e-09 - accuracy: 1.0000\n",
      "Epoch 229/500\n",
      "413/413 [==============================] - 0s 75us/step - loss: 3.5019e-09 - accuracy: 1.0000\n",
      "Epoch 230/500\n"
     ]
    },
    {
     "name": "stdout",
     "output_type": "stream",
     "text": [
      "413/413 [==============================] - 0s 82us/step - loss: 2.0547e-08 - accuracy: 1.0000\n",
      "Epoch 231/500\n",
      "413/413 [==============================] - 0s 80us/step - loss: 8.4127e-08 - accuracy: 1.0000\n",
      "Epoch 232/500\n",
      "413/413 [==============================] - 0s 82us/step - loss: 2.5758e-09 - accuracy: 1.0000\n",
      "Epoch 233/500\n",
      "413/413 [==============================] - 0s 87us/step - loss: 2.2492e-09 - accuracy: 1.0000\n",
      "Epoch 234/500\n",
      "413/413 [==============================] - 0s 80us/step - loss: 2.1607e-09 - accuracy: 1.0000\n",
      "Epoch 235/500\n",
      "413/413 [==============================] - 0s 75us/step - loss: 2.0933e-09 - accuracy: 1.0000\n",
      "Epoch 236/500\n",
      "413/413 [==============================] - 0s 73us/step - loss: 1.7555e-09 - accuracy: 1.0000\n",
      "Epoch 237/500\n",
      "413/413 [==============================] - 0s 68us/step - loss: 1.6545e-09 - accuracy: 1.0000\n",
      "Epoch 238/500\n",
      "413/413 [==============================] - 0s 70us/step - loss: 2.1212e-09 - accuracy: 1.0000\n",
      "Epoch 239/500\n",
      "413/413 [==============================] - 0s 65us/step - loss: 2.1125e-09 - accuracy: 1.0000\n",
      "Epoch 240/500\n",
      "413/413 [==============================] - 0s 68us/step - loss: 1.8298e-09 - accuracy: 1.0000\n",
      "Epoch 241/500\n",
      "413/413 [==============================] - 0s 63us/step - loss: 1.9887e-09 - accuracy: 1.0000\n",
      "Epoch 242/500\n",
      "413/413 [==============================] - 0s 85us/step - loss: 3.2706e-09 - accuracy: 1.0000\n",
      "Epoch 243/500\n",
      "413/413 [==============================] - 0s 70us/step - loss: 1.2972e-09 - accuracy: 1.0000\n",
      "Epoch 244/500\n",
      "413/413 [==============================] - 0s 70us/step - loss: 1.9726e-09 - accuracy: 1.0000\n",
      "Epoch 245/500\n",
      "413/413 [==============================] - 0s 75us/step - loss: 1.7570e-09 - accuracy: 1.0000\n",
      "Epoch 246/500\n",
      "413/413 [==============================] - 0s 68us/step - loss: 1.3096e-09 - accuracy: 1.0000\n",
      "Epoch 247/500\n",
      "413/413 [==============================] - 0s 77us/step - loss: 1.6139e-09 - accuracy: 1.0000\n",
      "Epoch 248/500\n",
      "413/413 [==============================] - 0s 70us/step - loss: 1.0733e-09 - accuracy: 1.0000\n",
      "Epoch 249/500\n",
      "413/413 [==============================] - 0s 70us/step - loss: 1.1418e-09 - accuracy: 1.0000\n",
      "Epoch 250/500\n",
      "413/413 [==============================] - 0s 75us/step - loss: 1.1071e-09 - accuracy: 1.0000\n",
      "Epoch 251/500\n",
      "413/413 [==============================] - 0s 75us/step - loss: 1.4847e-09 - accuracy: 1.0000\n",
      "Epoch 252/500\n",
      "413/413 [==============================] - 0s 68us/step - loss: 9.5507e-10 - accuracy: 1.0000\n",
      "Epoch 253/500\n",
      "413/413 [==============================] - 0s 77us/step - loss: 9.7284e-10 - accuracy: 1.0000\n",
      "Epoch 254/500\n",
      "413/413 [==============================] - 0s 70us/step - loss: 9.2017e-10 - accuracy: 1.0000\n",
      "Epoch 255/500\n",
      "413/413 [==============================] - 0s 68us/step - loss: 1.0742e-09 - accuracy: 1.0000\n",
      "Epoch 256/500\n",
      "413/413 [==============================] - 0s 65us/step - loss: 1.1765e-09 - accuracy: 1.0000\n",
      "Epoch 257/500\n",
      "413/413 [==============================] - 0s 82us/step - loss: 1.0104e-09 - accuracy: 1.0000\n",
      "Epoch 258/500\n",
      "413/413 [==============================] - 0s 82us/step - loss: 9.2546e-10 - accuracy: 1.0000\n",
      "Epoch 259/500\n",
      "413/413 [==============================] - 0s 73us/step - loss: 9.4461e-10 - accuracy: 1.0000\n",
      "Epoch 260/500\n",
      "413/413 [==============================] - 0s 77us/step - loss: 9.4875e-10 - accuracy: 1.0000\n",
      "Epoch 261/500\n",
      "413/413 [==============================] - 0s 68us/step - loss: 8.6129e-10 - accuracy: 1.0000\n",
      "Epoch 262/500\n",
      "413/413 [==============================] - 0s 77us/step - loss: 9.1222e-10 - accuracy: 1.0000\n",
      "Epoch 263/500\n",
      "413/413 [==============================] - 0s 77us/step - loss: 1.1315e-09 - accuracy: 1.0000\n",
      "Epoch 264/500\n",
      "413/413 [==============================] - 0s 75us/step - loss: 1.3638e-09 - accuracy: 1.0000\n",
      "Epoch 265/500\n",
      "413/413 [==============================] - 0s 65us/step - loss: 9.5060e-10 - accuracy: 1.0000\n",
      "Epoch 266/500\n",
      "413/413 [==============================] - 0s 65us/step - loss: 1.1875e-09 - accuracy: 1.0000\n",
      "Epoch 267/500\n",
      "413/413 [==============================] - 0s 80us/step - loss: 8.6297e-10 - accuracy: 1.0000\n",
      "Epoch 268/500\n",
      "413/413 [==============================] - 0s 77us/step - loss: 8.3943e-10 - accuracy: 1.0000\n",
      "Epoch 269/500\n",
      "413/413 [==============================] - 0s 77us/step - loss: 8.8219e-10 - accuracy: 1.0000\n",
      "Epoch 270/500\n",
      "413/413 [==============================] - 0s 68us/step - loss: 7.8228e-10 - accuracy: 1.0000\n",
      "Epoch 271/500\n",
      "413/413 [==============================] - 0s 75us/step - loss: 9.3915e-10 - accuracy: 1.0000\n",
      "Epoch 272/500\n",
      "413/413 [==============================] - 0s 68us/step - loss: 8.4018e-10 - accuracy: 1.0000\n",
      "Epoch 273/500\n",
      "413/413 [==============================] - 0s 77us/step - loss: 8.9611e-10 - accuracy: 1.0000\n",
      "Epoch 274/500\n",
      "413/413 [==============================] - 0s 85us/step - loss: 1.0252e-09 - accuracy: 1.0000\n",
      "Epoch 275/500\n",
      "413/413 [==============================] - 0s 90us/step - loss: 8.8681e-10 - accuracy: 1.0000\n",
      "Epoch 276/500\n",
      "413/413 [==============================] - 0s 97us/step - loss: 7.5517e-10 - accuracy: 1.0000\n",
      "Epoch 277/500\n",
      "413/413 [==============================] - 0s 90us/step - loss: 8.4946e-10 - accuracy: 1.0000\n",
      "Epoch 278/500\n",
      "413/413 [==============================] - 0s 80us/step - loss: 1.0538e-09 - accuracy: 1.0000\n",
      "Epoch 279/500\n",
      "413/413 [==============================] - 0s 90us/step - loss: 8.2631e-10 - accuracy: 1.0000\n",
      "Epoch 280/500\n",
      "413/413 [==============================] - 0s 92us/step - loss: 8.6918e-10 - accuracy: 1.0000\n",
      "Epoch 281/500\n",
      "413/413 [==============================] - 0s 80us/step - loss: 8.3250e-10 - accuracy: 1.0000\n",
      "Epoch 282/500\n",
      "413/413 [==============================] - 0s 85us/step - loss: 7.9138e-10 - accuracy: 1.0000\n",
      "Epoch 283/500\n",
      "413/413 [==============================] - 0s 87us/step - loss: 9.7401e-10 - accuracy: 1.0000\n",
      "Epoch 284/500\n",
      "413/413 [==============================] - 0s 82us/step - loss: 8.3001e-10 - accuracy: 1.0000\n",
      "Epoch 285/500\n",
      "413/413 [==============================] - 0s 87us/step - loss: 8.5534e-10 - accuracy: 1.0000\n",
      "Epoch 286/500\n",
      "413/413 [==============================] - 0s 82us/step - loss: 9.4188e-10 - accuracy: 1.0000\n",
      "Epoch 287/500\n",
      "413/413 [==============================] - 0s 92us/step - loss: 7.2849e-10 - accuracy: 1.0000\n",
      "Epoch 288/500\n",
      "413/413 [==============================] - 0s 82us/step - loss: 7.7672e-10 - accuracy: 1.0000\n",
      "Epoch 289/500\n",
      "413/413 [==============================] - 0s 80us/step - loss: 6.8773e-10 - accuracy: 1.0000\n",
      "Epoch 290/500\n",
      "413/413 [==============================] - 0s 80us/step - loss: 8.1217e-10 - accuracy: 1.0000\n",
      "Epoch 291/500\n",
      "413/413 [==============================] - 0s 82us/step - loss: 7.9505e-10 - accuracy: 1.0000\n",
      "Epoch 292/500\n",
      "413/413 [==============================] - 0s 90us/step - loss: 8.0949e-10 - accuracy: 1.0000\n",
      "Epoch 293/500\n",
      "413/413 [==============================] - 0s 87us/step - loss: 8.1394e-10 - accuracy: 1.0000\n",
      "Epoch 294/500\n",
      "413/413 [==============================] - 0s 73us/step - loss: 7.7483e-10 - accuracy: 1.0000\n",
      "Epoch 295/500\n",
      "413/413 [==============================] - 0s 68us/step - loss: 7.6872e-10 - accuracy: 1.0000\n",
      "Epoch 296/500\n",
      "413/413 [==============================] - 0s 92us/step - loss: 7.3022e-10 - accuracy: 1.0000\n",
      "Epoch 297/500\n",
      "413/413 [==============================] - 0s 82us/step - loss: 7.5627e-10 - accuracy: 1.0000\n",
      "Epoch 298/500\n",
      "413/413 [==============================] - 0s 90us/step - loss: 7.4577e-10 - accuracy: 1.0000\n",
      "Epoch 299/500\n",
      "413/413 [==============================] - 0s 82us/step - loss: 7.6578e-10 - accuracy: 1.0000\n",
      "Epoch 300/500\n",
      "413/413 [==============================] - 0s 77us/step - loss: 6.6245e-10 - accuracy: 1.0000\n",
      "Epoch 301/500\n",
      "413/413 [==============================] - 0s 97us/step - loss: 7.1038e-10 - accuracy: 1.0000\n",
      "Epoch 302/500\n",
      "413/413 [==============================] - 0s 90us/step - loss: 6.6114e-10 - accuracy: 1.0000\n",
      "Epoch 303/500\n",
      "413/413 [==============================] - 0s 92us/step - loss: 7.2607e-10 - accuracy: 1.0000\n",
      "Epoch 304/500\n",
      "413/413 [==============================] - 0s 87us/step - loss: 7.0742e-10 - accuracy: 1.0000\n",
      "Epoch 305/500\n",
      "413/413 [==============================] - 0s 82us/step - loss: 7.7366e-10 - accuracy: 1.0000\n"
     ]
    },
    {
     "name": "stdout",
     "output_type": "stream",
     "text": [
      "Epoch 306/500\n",
      "413/413 [==============================] - 0s 90us/step - loss: 7.6719e-10 - accuracy: 1.0000\n",
      "Epoch 307/500\n",
      "413/413 [==============================] - 0s 90us/step - loss: 6.9352e-10 - accuracy: 1.0000\n",
      "Epoch 308/500\n",
      "413/413 [==============================] - 0s 85us/step - loss: 6.5935e-10 - accuracy: 1.0000\n",
      "Epoch 309/500\n",
      "413/413 [==============================] - 0s 90us/step - loss: 6.8310e-10 - accuracy: 1.0000\n",
      "Epoch 310/500\n",
      "413/413 [==============================] - 0s 97us/step - loss: 6.3785e-10 - accuracy: 1.0000\n",
      "Epoch 311/500\n",
      "413/413 [==============================] - 0s 70us/step - loss: 7.3775e-10 - accuracy: 1.0000\n",
      "Epoch 312/500\n",
      "413/413 [==============================] - 0s 75us/step - loss: 6.9915e-10 - accuracy: 1.0000\n",
      "Epoch 313/500\n",
      "413/413 [==============================] - 0s 73us/step - loss: 6.7701e-10 - accuracy: 1.0000\n",
      "Epoch 314/500\n",
      "413/413 [==============================] - 0s 73us/step - loss: 6.8078e-10 - accuracy: 1.0000\n",
      "Epoch 315/500\n",
      "413/413 [==============================] - 0s 75us/step - loss: 6.6120e-10 - accuracy: 1.0000\n",
      "Epoch 316/500\n",
      "413/413 [==============================] - 0s 75us/step - loss: 6.4468e-10 - accuracy: 1.0000\n",
      "Epoch 317/500\n",
      "413/413 [==============================] - 0s 75us/step - loss: 6.4121e-10 - accuracy: 1.0000\n",
      "Epoch 318/500\n",
      "413/413 [==============================] - 0s 90us/step - loss: 7.2284e-10 - accuracy: 1.0000\n",
      "Epoch 319/500\n",
      "413/413 [==============================] - 0s 85us/step - loss: 6.6958e-10 - accuracy: 1.0000\n",
      "Epoch 320/500\n",
      "413/413 [==============================] - 0s 70us/step - loss: 7.1775e-10 - accuracy: 1.0000\n",
      "Epoch 321/500\n",
      "413/413 [==============================] - 0s 73us/step - loss: 6.4073e-10 - accuracy: 1.0000\n",
      "Epoch 322/500\n",
      "413/413 [==============================] - 0s 77us/step - loss: 6.6519e-10 - accuracy: 1.0000\n",
      "Epoch 323/500\n",
      "413/413 [==============================] - 0s 85us/step - loss: 7.4419e-10 - accuracy: 1.0000\n",
      "Epoch 324/500\n",
      "413/413 [==============================] - 0s 87us/step - loss: 6.5107e-10 - accuracy: 1.0000\n",
      "Epoch 325/500\n",
      "413/413 [==============================] - 0s 85us/step - loss: 7.2100e-10 - accuracy: 1.0000\n",
      "Epoch 326/500\n",
      "413/413 [==============================] - 0s 99us/step - loss: 6.8296e-10 - accuracy: 1.0000\n",
      "Epoch 327/500\n",
      "413/413 [==============================] - 0s 77us/step - loss: 6.5521e-10 - accuracy: 1.0000\n",
      "Epoch 328/500\n",
      "413/413 [==============================] - 0s 87us/step - loss: 6.4469e-10 - accuracy: 1.0000\n",
      "Epoch 329/500\n",
      "413/413 [==============================] - 0s 73us/step - loss: 6.4251e-10 - accuracy: 1.0000\n",
      "Epoch 330/500\n",
      "413/413 [==============================] - 0s 85us/step - loss: 6.9062e-10 - accuracy: 1.0000\n",
      "Epoch 331/500\n",
      "413/413 [==============================] - 0s 85us/step - loss: 6.1380e-10 - accuracy: 1.0000\n",
      "Epoch 332/500\n",
      "413/413 [==============================] - 0s 90us/step - loss: 6.5280e-10 - accuracy: 1.0000\n",
      "Epoch 333/500\n",
      "413/413 [==============================] - 0s 90us/step - loss: 6.6153e-10 - accuracy: 1.0000\n",
      "Epoch 334/500\n",
      "413/413 [==============================] - 0s 77us/step - loss: 6.3962e-10 - accuracy: 1.0000\n",
      "Epoch 335/500\n",
      "413/413 [==============================] - 0s 77us/step - loss: 6.5062e-10 - accuracy: 1.0000\n",
      "Epoch 336/500\n",
      "413/413 [==============================] - 0s 94us/step - loss: 6.1816e-10 - accuracy: 1.0000\n",
      "Epoch 337/500\n",
      "413/413 [==============================] - 0s 94us/step - loss: 5.9829e-10 - accuracy: 1.0000\n",
      "Epoch 338/500\n",
      "413/413 [==============================] - 0s 97us/step - loss: 6.6209e-10 - accuracy: 1.0000\n",
      "Epoch 339/500\n",
      "413/413 [==============================] - 0s 87us/step - loss: 6.9926e-10 - accuracy: 1.0000\n",
      "Epoch 340/500\n",
      "413/413 [==============================] - 0s 90us/step - loss: 6.7686e-10 - accuracy: 1.0000\n",
      "Epoch 341/500\n",
      "413/413 [==============================] - 0s 99us/step - loss: 6.6067e-10 - accuracy: 1.0000\n",
      "Epoch 342/500\n",
      "413/413 [==============================] - 0s 99us/step - loss: 5.9158e-10 - accuracy: 1.0000\n",
      "Epoch 343/500\n",
      "413/413 [==============================] - 0s 92us/step - loss: 6.8463e-10 - accuracy: 1.0000\n",
      "Epoch 344/500\n",
      "413/413 [==============================] - 0s 90us/step - loss: 6.1105e-10 - accuracy: 1.0000\n",
      "Epoch 345/500\n",
      "413/413 [==============================] - 0s 99us/step - loss: 6.1801e-10 - accuracy: 1.0000\n",
      "Epoch 346/500\n",
      "413/413 [==============================] - 0s 92us/step - loss: 5.9430e-10 - accuracy: 1.0000\n",
      "Epoch 347/500\n",
      "413/413 [==============================] - 0s 97us/step - loss: 6.5904e-10 - accuracy: 1.0000\n",
      "Epoch 348/500\n",
      "413/413 [==============================] - 0s 104us/step - loss: 7.0433e-10 - accuracy: 1.0000\n",
      "Epoch 349/500\n",
      "413/413 [==============================] - 0s 90us/step - loss: 6.7055e-10 - accuracy: 1.0000\n",
      "Epoch 350/500\n",
      "413/413 [==============================] - 0s 73us/step - loss: 6.2875e-10 - accuracy: 1.0000\n",
      "Epoch 351/500\n",
      "413/413 [==============================] - 0s 77us/step - loss: 6.1981e-10 - accuracy: 1.0000\n",
      "Epoch 352/500\n",
      "413/413 [==============================] - 0s 65us/step - loss: 6.0409e-10 - accuracy: 1.0000\n",
      "Epoch 353/500\n",
      "413/413 [==============================] - 0s 75us/step - loss: 6.3739e-10 - accuracy: 1.0000\n",
      "Epoch 354/500\n",
      "413/413 [==============================] - 0s 70us/step - loss: 5.9142e-10 - accuracy: 1.0000\n",
      "Epoch 355/500\n",
      "413/413 [==============================] - 0s 77us/step - loss: 6.6909e-10 - accuracy: 1.0000\n",
      "Epoch 356/500\n",
      "413/413 [==============================] - 0s 70us/step - loss: 6.5167e-10 - accuracy: 1.0000\n",
      "Epoch 357/500\n",
      "413/413 [==============================] - 0s 70us/step - loss: 6.1276e-10 - accuracy: 1.0000\n",
      "Epoch 358/500\n",
      "413/413 [==============================] - 0s 65us/step - loss: 5.9152e-10 - accuracy: 1.0000\n",
      "Epoch 359/500\n",
      "413/413 [==============================] - 0s 68us/step - loss: 6.2325e-10 - accuracy: 1.0000\n",
      "Epoch 360/500\n",
      "413/413 [==============================] - 0s 73us/step - loss: 6.1864e-10 - accuracy: 1.0000\n",
      "Epoch 361/500\n",
      "413/413 [==============================] - 0s 70us/step - loss: 6.3428e-10 - accuracy: 1.0000\n",
      "Epoch 362/500\n",
      "413/413 [==============================] - 0s 99us/step - loss: 6.5483e-10 - accuracy: 1.0000\n",
      "Epoch 363/500\n",
      "413/413 [==============================] - 0s 92us/step - loss: 6.0075e-10 - accuracy: 1.0000\n",
      "Epoch 364/500\n",
      "413/413 [==============================] - 0s 82us/step - loss: 5.7984e-10 - accuracy: 1.0000\n",
      "Epoch 365/500\n",
      "413/413 [==============================] - 0s 82us/step - loss: 6.1648e-10 - accuracy: 1.0000\n",
      "Epoch 366/500\n",
      "413/413 [==============================] - 0s 80us/step - loss: 7.2913e-10 - accuracy: 1.0000\n",
      "Epoch 367/500\n",
      "413/413 [==============================] - 0s 65us/step - loss: 5.7980e-10 - accuracy: 1.0000\n",
      "Epoch 368/500\n",
      "413/413 [==============================] - 0s 65us/step - loss: 6.6036e-10 - accuracy: 1.0000\n",
      "Epoch 369/500\n",
      "413/413 [==============================] - 0s 68us/step - loss: 5.9489e-10 - accuracy: 1.0000\n",
      "Epoch 370/500\n",
      "413/413 [==============================] - 0s 65us/step - loss: 6.5758e-10 - accuracy: 1.0000\n",
      "Epoch 371/500\n",
      "413/413 [==============================] - 0s 65us/step - loss: 5.7422e-10 - accuracy: 1.0000\n",
      "Epoch 372/500\n",
      "413/413 [==============================] - 0s 77us/step - loss: 6.1827e-10 - accuracy: 1.0000\n",
      "Epoch 373/500\n",
      "413/413 [==============================] - 0s 73us/step - loss: 6.2764e-10 - accuracy: 1.0000\n",
      "Epoch 374/500\n",
      "413/413 [==============================] - 0s 63us/step - loss: 6.0601e-10 - accuracy: 1.0000\n",
      "Epoch 375/500\n",
      "413/413 [==============================] - 0s 70us/step - loss: 6.0093e-10 - accuracy: 1.0000\n",
      "Epoch 376/500\n",
      "413/413 [==============================] - 0s 70us/step - loss: 6.0456e-10 - accuracy: 1.0000\n",
      "Epoch 377/500\n",
      "413/413 [==============================] - 0s 68us/step - loss: 6.0792e-10 - accuracy: 1.0000\n",
      "Epoch 378/500\n",
      "413/413 [==============================] - 0s 73us/step - loss: 6.0678e-10 - accuracy: 1.0000\n",
      "Epoch 379/500\n",
      "413/413 [==============================] - 0s 73us/step - loss: 6.2183e-10 - accuracy: 1.0000\n",
      "Epoch 380/500\n",
      "413/413 [==============================] - 0s 63us/step - loss: 5.7631e-10 - accuracy: 1.0000\n",
      "Epoch 381/500\n"
     ]
    },
    {
     "name": "stdout",
     "output_type": "stream",
     "text": [
      "413/413 [==============================] - 0s 68us/step - loss: 5.4881e-10 - accuracy: 1.0000\n",
      "Epoch 382/500\n",
      "413/413 [==============================] - 0s 70us/step - loss: 5.6879e-10 - accuracy: 1.0000\n",
      "Epoch 383/500\n",
      "413/413 [==============================] - 0s 73us/step - loss: 5.6678e-10 - accuracy: 1.0000\n",
      "Epoch 384/500\n",
      "413/413 [==============================] - 0s 63us/step - loss: 6.1581e-10 - accuracy: 1.0000\n",
      "Epoch 385/500\n",
      "413/413 [==============================] - 0s 73us/step - loss: 6.1180e-10 - accuracy: 1.0000\n",
      "Epoch 386/500\n",
      "413/413 [==============================] - 0s 70us/step - loss: 5.9034e-10 - accuracy: 1.0000\n",
      "Epoch 387/500\n",
      "413/413 [==============================] - 0s 77us/step - loss: 5.4956e-10 - accuracy: 1.0000\n",
      "Epoch 388/500\n",
      "413/413 [==============================] - 0s 73us/step - loss: 5.6588e-10 - accuracy: 1.0000\n",
      "Epoch 389/500\n",
      "413/413 [==============================] - 0s 70us/step - loss: 5.7380e-10 - accuracy: 1.0000\n",
      "Epoch 390/500\n",
      "413/413 [==============================] - 0s 77us/step - loss: 5.9767e-10 - accuracy: 1.0000\n",
      "Epoch 391/500\n",
      "413/413 [==============================] - 0s 73us/step - loss: 5.7373e-10 - accuracy: 1.0000\n",
      "Epoch 392/500\n",
      "413/413 [==============================] - 0s 68us/step - loss: 5.5519e-10 - accuracy: 1.0000\n",
      "Epoch 393/500\n",
      "413/413 [==============================] - 0s 73us/step - loss: 5.4139e-10 - accuracy: 1.0000\n",
      "Epoch 394/500\n",
      "413/413 [==============================] - 0s 70us/step - loss: 5.5880e-10 - accuracy: 1.0000\n",
      "Epoch 395/500\n",
      "413/413 [==============================] - 0s 75us/step - loss: 5.9057e-10 - accuracy: 1.0000\n",
      "Epoch 396/500\n",
      "413/413 [==============================] - 0s 75us/step - loss: 5.4270e-10 - accuracy: 1.0000\n",
      "Epoch 397/500\n",
      "413/413 [==============================] - 0s 75us/step - loss: 5.8462e-10 - accuracy: 1.0000\n",
      "Epoch 398/500\n",
      "413/413 [==============================] - 0s 80us/step - loss: 5.4034e-10 - accuracy: 1.0000\n",
      "Epoch 399/500\n",
      "413/413 [==============================] - 0s 80us/step - loss: 5.4516e-10 - accuracy: 1.0000\n",
      "Epoch 400/500\n",
      "413/413 [==============================] - 0s 77us/step - loss: 5.9685e-10 - accuracy: 1.0000\n",
      "Epoch 401/500\n",
      "413/413 [==============================] - 0s 75us/step - loss: 5.7116e-10 - accuracy: 1.0000\n",
      "Epoch 402/500\n",
      "413/413 [==============================] - 0s 80us/step - loss: 5.3999e-10 - accuracy: 1.0000\n",
      "Epoch 403/500\n",
      "413/413 [==============================] - 0s 80us/step - loss: 5.9915e-10 - accuracy: 1.0000\n",
      "Epoch 404/500\n",
      "413/413 [==============================] - 0s 70us/step - loss: 5.7565e-10 - accuracy: 1.0000\n",
      "Epoch 405/500\n",
      "413/413 [==============================] - 0s 68us/step - loss: 5.6118e-10 - accuracy: 1.0000\n",
      "Epoch 406/500\n",
      "413/413 [==============================] - 0s 75us/step - loss: 5.4413e-10 - accuracy: 1.0000\n",
      "Epoch 407/500\n",
      "413/413 [==============================] - 0s 75us/step - loss: 5.4116e-10 - accuracy: 1.0000\n",
      "Epoch 408/500\n",
      "413/413 [==============================] - 0s 65us/step - loss: 6.1197e-10 - accuracy: 1.0000\n",
      "Epoch 409/500\n",
      "413/413 [==============================] - 0s 75us/step - loss: 6.0532e-10 - accuracy: 1.0000\n",
      "Epoch 410/500\n",
      "413/413 [==============================] - 0s 65us/step - loss: 5.5986e-10 - accuracy: 1.0000\n",
      "Epoch 411/500\n",
      "413/413 [==============================] - 0s 73us/step - loss: 6.1049e-10 - accuracy: 1.0000\n",
      "Epoch 412/500\n",
      "413/413 [==============================] - 0s 87us/step - loss: 5.9781e-10 - accuracy: 1.0000\n",
      "Epoch 413/500\n",
      "413/413 [==============================] - 0s 73us/step - loss: 5.8263e-10 - accuracy: 1.0000\n",
      "Epoch 414/500\n",
      "413/413 [==============================] - 0s 80us/step - loss: 5.5783e-10 - accuracy: 1.0000\n",
      "Epoch 415/500\n",
      "413/413 [==============================] - 0s 73us/step - loss: 5.5923e-10 - accuracy: 1.0000\n",
      "Epoch 416/500\n",
      "413/413 [==============================] - 0s 75us/step - loss: 5.6458e-10 - accuracy: 1.0000\n",
      "Epoch 417/500\n",
      "413/413 [==============================] - 0s 70us/step - loss: 6.0426e-10 - accuracy: 1.0000\n",
      "Epoch 418/500\n",
      "413/413 [==============================] - 0s 68us/step - loss: 6.2088e-10 - accuracy: 1.0000\n",
      "Epoch 419/500\n",
      "413/413 [==============================] - 0s 68us/step - loss: 5.4919e-10 - accuracy: 1.0000\n",
      "Epoch 420/500\n",
      "413/413 [==============================] - 0s 70us/step - loss: 5.1707e-10 - accuracy: 1.0000\n",
      "Epoch 421/500\n",
      "413/413 [==============================] - 0s 75us/step - loss: 5.7582e-10 - accuracy: 1.0000\n",
      "Epoch 422/500\n",
      "413/413 [==============================] - 0s 75us/step - loss: 5.7565e-10 - accuracy: 1.0000\n",
      "Epoch 423/500\n",
      "413/413 [==============================] - 0s 80us/step - loss: 5.2515e-10 - accuracy: 1.0000\n",
      "Epoch 424/500\n",
      "413/413 [==============================] - 0s 65us/step - loss: 5.3585e-10 - accuracy: 1.0000\n",
      "Epoch 425/500\n",
      "413/413 [==============================] - 0s 73us/step - loss: 5.7994e-10 - accuracy: 1.0000\n",
      "Epoch 426/500\n",
      "413/413 [==============================] - 0s 65us/step - loss: 5.6311e-10 - accuracy: 1.0000\n",
      "Epoch 427/500\n",
      "413/413 [==============================] - 0s 73us/step - loss: 5.6755e-10 - accuracy: 1.0000\n",
      "Epoch 428/500\n",
      "413/413 [==============================] - 0s 77us/step - loss: 5.5130e-10 - accuracy: 1.0000\n",
      "Epoch 429/500\n",
      "413/413 [==============================] - 0s 63us/step - loss: 5.3729e-10 - accuracy: 1.0000\n",
      "Epoch 430/500\n",
      "413/413 [==============================] - 0s 75us/step - loss: 5.6112e-10 - accuracy: 1.0000\n",
      "Epoch 431/500\n",
      "413/413 [==============================] - 0s 61us/step - loss: 5.7315e-10 - accuracy: 1.0000\n",
      "Epoch 432/500\n",
      "413/413 [==============================] - 0s 73us/step - loss: 6.1934e-10 - accuracy: 1.0000\n",
      "Epoch 433/500\n",
      "413/413 [==============================] - 0s 70us/step - loss: 5.2987e-10 - accuracy: 1.0000\n",
      "Epoch 434/500\n",
      "413/413 [==============================] - 0s 77us/step - loss: 5.1957e-10 - accuracy: 1.0000\n",
      "Epoch 435/500\n",
      "413/413 [==============================] - 0s 70us/step - loss: 5.3290e-10 - accuracy: 1.0000\n",
      "Epoch 436/500\n",
      "413/413 [==============================] - 0s 75us/step - loss: 5.6194e-10 - accuracy: 1.0000\n",
      "Epoch 437/500\n",
      "413/413 [==============================] - 0s 75us/step - loss: 5.6270e-10 - accuracy: 1.0000\n",
      "Epoch 438/500\n",
      "413/413 [==============================] - 0s 73us/step - loss: 5.1494e-10 - accuracy: 1.0000\n",
      "Epoch 439/500\n",
      "413/413 [==============================] - 0s 68us/step - loss: 5.5888e-10 - accuracy: 1.0000\n",
      "Epoch 440/500\n",
      "413/413 [==============================] - 0s 75us/step - loss: 5.2914e-10 - accuracy: 1.0000\n",
      "Epoch 441/500\n",
      "413/413 [==============================] - 0s 73us/step - loss: 5.3937e-10 - accuracy: 1.0000\n",
      "Epoch 442/500\n",
      "413/413 [==============================] - 0s 70us/step - loss: 5.1624e-10 - accuracy: 1.0000\n",
      "Epoch 443/500\n",
      "413/413 [==============================] - 0s 75us/step - loss: 5.3145e-10 - accuracy: 1.0000\n",
      "Epoch 444/500\n",
      "413/413 [==============================] - 0s 77us/step - loss: 5.7137e-10 - accuracy: 1.0000\n",
      "Epoch 445/500\n",
      "413/413 [==============================] - 0s 77us/step - loss: 5.4901e-10 - accuracy: 1.0000\n",
      "Epoch 446/500\n",
      "413/413 [==============================] - 0s 82us/step - loss: 6.3626e-10 - accuracy: 1.0000\n",
      "Epoch 447/500\n",
      "413/413 [==============================] - 0s 77us/step - loss: 6.1214e-10 - accuracy: 1.0000\n",
      "Epoch 448/500\n",
      "413/413 [==============================] - 0s 85us/step - loss: 5.6965e-10 - accuracy: 1.0000\n",
      "Epoch 449/500\n",
      "413/413 [==============================] - 0s 77us/step - loss: 5.2158e-10 - accuracy: 1.0000\n",
      "Epoch 450/500\n",
      "413/413 [==============================] - 0s 80us/step - loss: 5.5015e-10 - accuracy: 1.0000\n",
      "Epoch 451/500\n",
      "413/413 [==============================] - 0s 90us/step - loss: 5.7422e-10 - accuracy: 1.0000\n",
      "Epoch 452/500\n",
      "413/413 [==============================] - 0s 90us/step - loss: 5.5822e-10 - accuracy: 1.0000\n",
      "Epoch 453/500\n",
      "413/413 [==============================] - 0s 109us/step - loss: 5.7535e-10 - accuracy: 1.0000\n",
      "Epoch 454/500\n",
      "413/413 [==============================] - 0s 97us/step - loss: 5.4303e-10 - accuracy: 1.0000\n",
      "Epoch 455/500\n",
      "413/413 [==============================] - 0s 90us/step - loss: 5.2450e-10 - accuracy: 1.0000\n",
      "Epoch 456/500\n",
      "413/413 [==============================] - 0s 109us/step - loss: 5.2410e-10 - accuracy: 1.0000\n"
     ]
    },
    {
     "name": "stdout",
     "output_type": "stream",
     "text": [
      "Epoch 457/500\n",
      "413/413 [==============================] - 0s 97us/step - loss: 5.1922e-10 - accuracy: 1.0000\n",
      "Epoch 458/500\n",
      "413/413 [==============================] - 0s 90us/step - loss: 5.5273e-10 - accuracy: 1.0000\n",
      "Epoch 459/500\n",
      "413/413 [==============================] - 0s 107us/step - loss: 5.6453e-10 - accuracy: 1.0000\n",
      "Epoch 460/500\n",
      "413/413 [==============================] - 0s 119us/step - loss: 5.2131e-10 - accuracy: 1.0000\n",
      "Epoch 461/500\n",
      "413/413 [==============================] - 0s 90us/step - loss: 4.9172e-10 - accuracy: 1.0000\n",
      "Epoch 462/500\n",
      "413/413 [==============================] - 0s 114us/step - loss: 4.8913e-10 - accuracy: 1.0000\n",
      "Epoch 463/500\n",
      "413/413 [==============================] - 0s 99us/step - loss: 5.1975e-10 - accuracy: 1.0000\n",
      "Epoch 464/500\n",
      "413/413 [==============================] - 0s 82us/step - loss: 5.8723e-10 - accuracy: 1.0000\n",
      "Epoch 465/500\n",
      "413/413 [==============================] - 0s 80us/step - loss: 5.4131e-10 - accuracy: 1.0000\n",
      "Epoch 466/500\n",
      "413/413 [==============================] - 0s 77us/step - loss: 5.5689e-10 - accuracy: 1.0000\n",
      "Epoch 467/500\n",
      "413/413 [==============================] - 0s 82us/step - loss: 5.5487e-10 - accuracy: 1.0000\n",
      "Epoch 468/500\n",
      "413/413 [==============================] - 0s 92us/step - loss: 5.6330e-10 - accuracy: 1.0000\n",
      "Epoch 469/500\n",
      "413/413 [==============================] - 0s 85us/step - loss: 5.4488e-10 - accuracy: 1.0000\n",
      "Epoch 470/500\n",
      "413/413 [==============================] - 0s 70us/step - loss: 5.5891e-10 - accuracy: 1.0000\n",
      "Epoch 471/500\n",
      "413/413 [==============================] - 0s 87us/step - loss: 5.5662e-10 - accuracy: 1.0000\n",
      "Epoch 472/500\n",
      "413/413 [==============================] - 0s 73us/step - loss: 5.1682e-10 - accuracy: 1.0000\n",
      "Epoch 473/500\n",
      "413/413 [==============================] - 0s 70us/step - loss: 4.8392e-10 - accuracy: 1.0000\n",
      "Epoch 474/500\n",
      "413/413 [==============================] - 0s 70us/step - loss: 5.1638e-10 - accuracy: 1.0000\n",
      "Epoch 475/500\n",
      "413/413 [==============================] - 0s 80us/step - loss: 5.5829e-10 - accuracy: 1.0000\n",
      "Epoch 476/500\n",
      "413/413 [==============================] - 0s 73us/step - loss: 5.1884e-10 - accuracy: 1.0000\n",
      "Epoch 477/500\n",
      "413/413 [==============================] - 0s 80us/step - loss: 5.5223e-10 - accuracy: 1.0000\n",
      "Epoch 478/500\n",
      "413/413 [==============================] - 0s 87us/step - loss: 5.0587e-10 - accuracy: 1.0000\n",
      "Epoch 479/500\n",
      "413/413 [==============================] - 0s 82us/step - loss: 5.3929e-10 - accuracy: 1.0000\n",
      "Epoch 480/500\n",
      "413/413 [==============================] - 0s 82us/step - loss: 5.7230e-10 - accuracy: 1.0000\n",
      "Epoch 481/500\n",
      "413/413 [==============================] - 0s 77us/step - loss: 5.5658e-10 - accuracy: 1.0000\n",
      "Epoch 482/500\n",
      "413/413 [==============================] - 0s 87us/step - loss: 5.4521e-10 - accuracy: 1.0000\n",
      "Epoch 483/500\n",
      "413/413 [==============================] - 0s 97us/step - loss: 5.5080e-10 - accuracy: 1.0000\n",
      "Epoch 484/500\n",
      "413/413 [==============================] - 0s 92us/step - loss: 5.3663e-10 - accuracy: 1.0000\n",
      "Epoch 485/500\n",
      "413/413 [==============================] - 0s 85us/step - loss: 5.5080e-10 - accuracy: 1.0000\n",
      "Epoch 486/500\n",
      "413/413 [==============================] - 0s 68us/step - loss: 5.6158e-10 - accuracy: 1.0000\n",
      "Epoch 487/500\n",
      "413/413 [==============================] - 0s 65us/step - loss: 4.8784e-10 - accuracy: 1.0000\n",
      "Epoch 488/500\n",
      "413/413 [==============================] - 0s 90us/step - loss: 5.2624e-10 - accuracy: 1.0000\n",
      "Epoch 489/500\n",
      "413/413 [==============================] - 0s 87us/step - loss: 5.3590e-10 - accuracy: 1.0000\n",
      "Epoch 490/500\n",
      "413/413 [==============================] - 0s 97us/step - loss: 5.1107e-10 - accuracy: 1.0000\n",
      "Epoch 491/500\n",
      "413/413 [==============================] - 0s 82us/step - loss: 5.3068e-10 - accuracy: 1.0000\n",
      "Epoch 492/500\n",
      "413/413 [==============================] - 0s 80us/step - loss: 5.5564e-10 - accuracy: 1.0000\n",
      "Epoch 493/500\n",
      "413/413 [==============================] - 0s 75us/step - loss: 5.2938e-10 - accuracy: 1.0000\n",
      "Epoch 494/500\n",
      "413/413 [==============================] - 0s 80us/step - loss: 5.3949e-10 - accuracy: 1.0000\n",
      "Epoch 495/500\n",
      "413/413 [==============================] - 0s 82us/step - loss: 5.6472e-10 - accuracy: 1.0000\n",
      "Epoch 496/500\n",
      "413/413 [==============================] - 0s 68us/step - loss: 5.0945e-10 - accuracy: 1.0000\n",
      "Epoch 497/500\n",
      "413/413 [==============================] - 0s 73us/step - loss: 5.3616e-10 - accuracy: 1.0000\n",
      "Epoch 498/500\n",
      "413/413 [==============================] - 0s 77us/step - loss: 5.5913e-10 - accuracy: 1.0000\n",
      "Epoch 499/500\n",
      "413/413 [==============================] - 0s 75us/step - loss: 5.1579e-10 - accuracy: 1.0000\n",
      "Epoch 500/500\n",
      "413/413 [==============================] - 0s 80us/step - loss: 5.2073e-10 - accuracy: 1.0000\n"
     ]
    }
   ],
   "source": [
    "first_model = prep_model([28,50,40,20,1])\n",
    "first_model.fit(X,Y,epochs=500)\n",
    "pred_train = first_model.predict(np.array(x_train))"
   ]
  }
 ],
 "metadata": {
  "kernelspec": {
   "display_name": "Python 3",
   "language": "python",
   "name": "python3"
  },
  "language_info": {
   "codemirror_mode": {
    "name": "ipython",
    "version": 3
   },
   "file_extension": ".py",
   "mimetype": "text/x-python",
   "name": "python",
   "nbconvert_exporter": "python",
   "pygments_lexer": "ipython3",
   "version": "3.7.7"
  }
 },
 "nbformat": 4,
 "nbformat_minor": 4
}
